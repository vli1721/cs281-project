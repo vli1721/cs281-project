{
  "nbformat": 4,
  "nbformat_minor": 0,
  "metadata": {
    "colab": {
      "name": "adr_prediction_keras.ipynb",
      "provenance": [],
      "collapsed_sections": []
    },
    "kernelspec": {
      "name": "python3",
      "display_name": "Python 3"
    },
    "accelerator": "GPU"
  },
  "cells": [
    {
      "cell_type": "code",
      "metadata": {
        "id": "ovZa5aK_gddS",
        "colab_type": "code",
        "colab": {}
      },
      "source": [
        "%matplotlib inline"
      ],
      "execution_count": 0,
      "outputs": []
    },
    {
      "cell_type": "code",
      "metadata": {
        "id": "5U8fdG2Bgi89",
        "colab_type": "code",
        "colab": {}
      },
      "source": [
        "from tensorflow.keras.models import Sequential, Model\n",
        "from tensorflow.keras.layers import Dense, LSTM, Embedding, Bidirectional\n",
        "from tensorflow.keras.layers import Input, Flatten, Activation, RepeatVector\n",
        "from tensorflow.keras.layers import Permute, multiply, Lambda, Dropout\n",
        "from tensorflow.keras.preprocessing import sequence\n",
        "from tensorflow.keras.callbacks import LambdaCallback\n",
        "from keras import backend as K\n",
        "\n",
        "from tensorflow.keras import optimizers\n",
        "\n",
        "import tensorflow as tf\n",
        "\n",
        "from sklearn.utils import class_weight\n",
        "\n",
        "from tensorflow.keras.wrappers.scikit_learn import KerasClassifier\n",
        "from sklearn.model_selection import cross_val_score\n",
        "from sklearn.preprocessing import LabelEncoder\n",
        "from sklearn.model_selection import StratifiedKFold\n",
        "from sklearn.preprocessing import StandardScaler\n",
        "from sklearn.pipeline import Pipeline\n",
        "\n",
        "\n",
        "import random\n",
        "from sklearn.model_selection import train_test_split\n",
        "\n",
        "import matplotlib.pyplot as plt\n",
        "plt.switch_backend('agg')\n",
        "import matplotlib.ticker as ticker\n",
        "\n",
        "import numpy as np\n",
        "import pandas as pd\n",
        "\n",
        "import time\n",
        "import math"
      ],
      "execution_count": 0,
      "outputs": []
    },
    {
      "cell_type": "code",
      "metadata": {
        "id": "9psF3mY9gn_m",
        "colab_type": "code",
        "colab": {}
      },
      "source": [
        "# Helper function to plot results\n",
        "def showPlot(points):\n",
        "    plt.figure()\n",
        "    fig, ax = plt.subplots()\n",
        "    # this locator puts ticks at regular intervals\n",
        "    loc = ticker.MultipleLocator(base=0.2)\n",
        "    ax.yaxis.set_major_locator(loc)\n",
        "    plt.plot(points)"
      ],
      "execution_count": 0,
      "outputs": []
    },
    {
      "cell_type": "code",
      "metadata": {
        "id": "c9kHqcNBg3Ao",
        "colab_type": "code",
        "outputId": "5ca776fc-5ea6-4d1c-d1a4-b4b683459a56",
        "colab": {
          "base_uri": "https://localhost:8080/",
          "height": 68
        }
      },
      "source": [
        "# Load data.\n",
        "adr_data_train_url = \"https://raw.githubusercontent.com/vli1721/cs281-project/master/adr_data_filtered_train.csv?token=AHRDF6JLLQOK4C2QJDUP7Q2576RAE\"\n",
        "adr_data_test_url = \"https://raw.githubusercontent.com/vli1721/cs281-project/master/adr_data_filtered_test.csv?token=AHRDF6KG265LUVFIRVH2BTC576Q7I\"\n",
        "adr_data_unlabeled_url = \"https://raw.githubusercontent.com/vli1721/cs281-project/master/adr_data_unlabeled.csv?token=AHRDF6JXAFCABWSEYEDOCE2576RAY\"\n",
        "\n",
        "adr_data_train = pd.read_csv(adr_data_train_url)\n",
        "adr_data_test = pd.read_csv(adr_data_test_url)\n",
        "adr_data_unlabeled = pd.read_csv(adr_data_unlabeled_url)\n",
        "\n",
        "max_len_train = max(list(map(len, adr_data_train[\"smile\"])))\n",
        "max_len_test = max(list(map(len, adr_data_test[\"smile\"])))\n",
        "max_len_unlabeled = max(list(map(len, adr_data_unlabeled[\"smile\"])))\n",
        "max_len = max(max_len_train, max_len_test, max_len_unlabeled)\n",
        "\n",
        "print(\"Max Length Train: \" + str(max_len_train))\n",
        "print(\"Max Length Test: \" + str(max_len_test))\n",
        "print(\"Max Length Unlabeled: \" + str(max_len_unlabeled))"
      ],
      "execution_count": 0,
      "outputs": [
        {
          "output_type": "stream",
          "text": [
            "Max Length Train: 476\n",
            "Max Length Test: 852\n",
            "Max Length Unlabeled: 1695\n"
          ],
          "name": "stdout"
        }
      ]
    },
    {
      "cell_type": "code",
      "metadata": {
        "id": "qmusLE5ehQxY",
        "colab_type": "code",
        "colab": {}
      },
      "source": [
        "# Constants\n",
        "NUM_CHARS = 128\n",
        "INPUT_SIZE = max_len\n",
        "MAX_LENGTH = max_len\n",
        "HIDDEN_SIZE = 50\n",
        "EMBEDDING_SIZE = 64\n",
        "NUM_LAYERS = 2\n",
        "NUM_ADR_CLASSES = 27\n",
        "\n",
        "metric_AUC = tf.keras.metrics.AUC()"
      ],
      "execution_count": 0,
      "outputs": []
    },
    {
      "cell_type": "code",
      "metadata": {
        "id": "bbHB5iENq__8",
        "colab_type": "code",
        "colab": {}
      },
      "source": [
        "def encode_adr_vector(adr_str):\n",
        "    # Compute indices (1-27) and subtract 1 to make them 0-indexed.\n",
        "    indices = np.array(list(map(int, adr_str.split(\", \")))) - np.array(1)\n",
        "    # Create one hot vectors of indices (https://stackoverflow.com/questions/29831489/convert-array-of-indices-to-1-hot-encoded-numpy-array)\n",
        "    # and sum them to get one 27-bit binary vector.\n",
        "    one_hot_vecs = np.zeros((indices.size, NUM_ADR_CLASSES))\n",
        "    one_hot_vecs[np.arange(indices.size),indices] = 1\n",
        "    encoded_vec = np.sum(one_hot_vecs, axis=0)\n",
        "    return encoded_vec"
      ],
      "execution_count": 0,
      "outputs": []
    },
    {
      "cell_type": "code",
      "metadata": {
        "id": "bFUtakMtzItE",
        "colab_type": "code",
        "colab": {}
      },
      "source": [
        "def plot_results(model, title=\"Results\", val=False, mlp=False):\n",
        "    start = 0\n",
        "    if mlp:\n",
        "        start = 1\n",
        "    plt.plot(model.history.history['acc'][start:])\n",
        "    if val:\n",
        "        plt.plot(model.history.history['val_acc'][start:])\n",
        "    plt.plot(model.history.history['loss'][start:])\n",
        "    if val:\n",
        "        plt.plot(model.history.history['val_loss'][start:])\n",
        "    plt.title(title)\n",
        "    if val:\n",
        "        plt.legend(['train_acc', 'val_acc', 'train_loss', 'val_loss'], loc = 'best')\n",
        "    else:\n",
        "        plt.legend(['train_acc', 'train_loss'], loc = 'best')\n",
        "    plt.xlabel('epoch')\n",
        "    # plt.ylabel('accuracy')\n",
        "    plt.show()"
      ],
      "execution_count": 0,
      "outputs": []
    },
    {
      "cell_type": "code",
      "metadata": {
        "id": "NH1X5FdEqep2",
        "colab_type": "code",
        "colab": {}
      },
      "source": [
        "# X-values are SMILE strings, encoded as tensors of ASCII values.\n",
        "# Y-values are 27-bit binary vectors (1 indicates ADR of that class, 0 indicates not).\n",
        "X_train = []\n",
        "y_train = []\n",
        "X_test = []\n",
        "y_test = []\n",
        "X_unlabeled = []\n",
        "\n",
        "for index, row in adr_data_train.iterrows():\n",
        "    X_train.append(list(map(ord, row[\"smile\"])))\n",
        "    y_train.append(encode_adr_vector(row[\"adrs\"]))\n",
        "for index, row in adr_data_test.iterrows():\n",
        "    X_test.append(list(map(ord, row[\"smile\"])))\n",
        "    y_test.append(encode_adr_vector(row[\"adrs\"]))\n",
        "\n",
        "for index, row in adr_data_unlabeled.iterrows():\n",
        "    X_unlabeled.append(list(map(ord, row[\"smile\"])))\n",
        "\n",
        "X_train = sequence.pad_sequences(np.array(X_train), maxlen=MAX_LENGTH, padding=\"post\")\n",
        "y_train = np.array(y_train)\n",
        "X_test = sequence.pad_sequences(np.array(X_test), maxlen=MAX_LENGTH, padding=\"post\")\n",
        "y_test = np.array(y_test)\n",
        "\n",
        "X_unlabeled = sequence.pad_sequences(np.array(X_unlabeled), maxlen=MAX_LENGTH, padding=\"post\")"
      ],
      "execution_count": 0,
      "outputs": []
    },
    {
      "cell_type": "code",
      "metadata": {
        "id": "kx9g-sSW-ubU",
        "colab_type": "code",
        "colab": {
          "base_uri": "https://localhost:8080/",
          "height": 51
        },
        "outputId": "d6ac0029-1012-4da3-c1dc-7aa090ecad6b"
      },
      "source": [
        "y_train[0]"
      ],
      "execution_count": 224,
      "outputs": [
        {
          "output_type": "execute_result",
          "data": {
            "text/plain": [
              "array([1., 1., 0., 1., 0., 1., 1., 1., 0., 1., 1., 1., 0., 1., 1., 0., 1.,\n",
              "       0., 1., 0., 0., 0., 1., 1., 0., 0., 0.])"
            ]
          },
          "metadata": {
            "tags": []
          },
          "execution_count": 224
        }
      ]
    },
    {
      "cell_type": "code",
      "metadata": {
        "id": "HJ4UjDWLPN9B",
        "colab_type": "code",
        "colab": {}
      },
      "source": [
        "# Generate train main-validation split (80-20).\n",
        "X_train_main, X_train_val, y_train_main, y_train_val = train_test_split(np.array(X_train), np.array(y_train), train_size=0.8, test_size=0.2)"
      ],
      "execution_count": 0,
      "outputs": []
    },
    {
      "cell_type": "code",
      "metadata": {
        "id": "NTd_V0BynSXe",
        "colab_type": "code",
        "colab": {}
      },
      "source": [
        "# Pseudo labeling\n",
        "def pseudo_labeling(model, iterations, num_epochs, batch_size):\n",
        "    test_losses = []\n",
        "    test_accs = []\n",
        "    for count in range(iterations):\n",
        "        X_unlabeled_sample = X_unlabeled[np.random.choice(\n",
        "            X_unlabeled.shape[0], size=300, replace=False)]\n",
        "\n",
        "        pseudo_labels = np.round(model.predict(X_unlabeled_sample))  \n",
        "        X_combined = np.concatenate((X_train_main, X_unlabeled_sample), axis=0)\n",
        "        y_combined = np.concatenate((y_train_main, pseudo_labels), axis=0)\n",
        "            \n",
        "        model.fit(X_combined, y_combined,\n",
        "                            validation_data=(X_train_val, y_train_val),\n",
        "                            epochs=num_epochs, batch_size=batch_size)\n",
        "        \n",
        "        model.evaluate(X_train_main, y_train_main)\n",
        "        model.evaluate(X_unlabeled_sample, pseudo_labels)\n",
        "        model.evaluate(X_combined, y_combined)\n",
        "        loss, acc = model.evaluate(X_test, y_test)\n",
        "        test_losses.append(loss)\n",
        "        test_accs.append(acc)\n",
        "    return test_losses, test_accs\n"
      ],
      "execution_count": 0,
      "outputs": []
    },
    {
      "cell_type": "code",
      "metadata": {
        "id": "xt4ntV3p7ZhY",
        "colab_type": "code",
        "outputId": "2a50e50e-57cf-410c-bfb9-de286f995ad2",
        "colab": {
          "base_uri": "https://localhost:8080/",
          "height": 1000
        }
      },
      "source": [
        "from tensorflow.keras.layers import Conv1D, GlobalAveragePooling1D, MaxPooling1D\n",
        "conv_net = Sequential()\n",
        "conv_net.add(Embedding(NUM_CHARS, 32, input_length=MAX_LENGTH))\n",
        "conv_net.add(Conv1D(64, 3, activation='relu'))\n",
        "conv_net.add(Dropout(0.5))\n",
        "conv_net.add(Conv1D(64, 3, activation='relu'))\n",
        "conv_net.add(MaxPooling1D(3))\n",
        "conv_net.add(Conv1D(128, 3, activation='relu'))\n",
        "conv_net.add(Dropout(0.5))\n",
        "conv_net.add(Conv1D(128, 3, activation='relu'))\n",
        "conv_net.add(GlobalAveragePooling1D())\n",
        "conv_net.add(Dropout(0.5))\n",
        "conv_net.add(Dense(NUM_ADR_CLASSES, activation='sigmoid'))\n",
        "\n",
        "conv_net.compile(loss='binary_crossentropy',\n",
        "              optimizer='rmsprop',\n",
        "              metrics=['accuracy'])\n",
        "\n",
        "conv_net.fit(X_train, y_train, batch_size=64, epochs=50)"
      ],
      "execution_count": 0,
      "outputs": [
        {
          "output_type": "stream",
          "text": [
            "Train on 944 samples\n",
            "Epoch 1/50\n",
            "944/944 [==============================] - 1s 990us/sample - loss: 0.5705 - acc: 0.7192\n",
            "Epoch 2/50\n",
            "944/944 [==============================] - 0s 290us/sample - loss: 0.5077 - acc: 0.7660\n",
            "Epoch 3/50\n",
            "944/944 [==============================] - 0s 280us/sample - loss: 0.5049 - acc: 0.7685\n",
            "Epoch 4/50\n",
            "944/944 [==============================] - 0s 293us/sample - loss: 0.4971 - acc: 0.7679\n",
            "Epoch 5/50\n",
            "944/944 [==============================] - 0s 282us/sample - loss: 0.4972 - acc: 0.7695\n",
            "Epoch 6/50\n",
            "944/944 [==============================] - 0s 277us/sample - loss: 0.4913 - acc: 0.7722\n",
            "Epoch 7/50\n",
            "944/944 [==============================] - 0s 287us/sample - loss: 0.4900 - acc: 0.7741\n",
            "Epoch 8/50\n",
            "944/944 [==============================] - 0s 284us/sample - loss: 0.4903 - acc: 0.7733\n",
            "Epoch 9/50\n",
            "944/944 [==============================] - 0s 282us/sample - loss: 0.4878 - acc: 0.7710\n",
            "Epoch 10/50\n",
            "944/944 [==============================] - 0s 281us/sample - loss: 0.4884 - acc: 0.7731\n",
            "Epoch 11/50\n",
            "944/944 [==============================] - 0s 284us/sample - loss: 0.4873 - acc: 0.7750\n",
            "Epoch 12/50\n",
            "944/944 [==============================] - 0s 294us/sample - loss: 0.4836 - acc: 0.7744\n",
            "Epoch 13/50\n",
            "944/944 [==============================] - 0s 284us/sample - loss: 0.4840 - acc: 0.7729\n",
            "Epoch 14/50\n",
            "944/944 [==============================] - 0s 300us/sample - loss: 0.4847 - acc: 0.7735\n",
            "Epoch 15/50\n",
            "944/944 [==============================] - 0s 293us/sample - loss: 0.4841 - acc: 0.7761\n",
            "Epoch 16/50\n",
            "944/944 [==============================] - 0s 298us/sample - loss: 0.4826 - acc: 0.7760\n",
            "Epoch 17/50\n",
            "944/944 [==============================] - 0s 280us/sample - loss: 0.4815 - acc: 0.7741\n",
            "Epoch 18/50\n",
            "944/944 [==============================] - 0s 288us/sample - loss: 0.4804 - acc: 0.7753\n",
            "Epoch 19/50\n",
            "944/944 [==============================] - 0s 293us/sample - loss: 0.4801 - acc: 0.7737\n",
            "Epoch 20/50\n",
            "944/944 [==============================] - 0s 291us/sample - loss: 0.4787 - acc: 0.7757\n",
            "Epoch 21/50\n",
            "944/944 [==============================] - 0s 283us/sample - loss: 0.4801 - acc: 0.7750\n",
            "Epoch 22/50\n",
            "944/944 [==============================] - 0s 282us/sample - loss: 0.4771 - acc: 0.7765\n",
            "Epoch 23/50\n",
            "944/944 [==============================] - 0s 292us/sample - loss: 0.4756 - acc: 0.7770\n",
            "Epoch 24/50\n",
            "944/944 [==============================] - 0s 286us/sample - loss: 0.4782 - acc: 0.7759\n",
            "Epoch 25/50\n",
            "944/944 [==============================] - 0s 289us/sample - loss: 0.4759 - acc: 0.7768\n",
            "Epoch 26/50\n",
            "944/944 [==============================] - 0s 282us/sample - loss: 0.4758 - acc: 0.7783\n",
            "Epoch 27/50\n",
            "944/944 [==============================] - 0s 296us/sample - loss: 0.4734 - acc: 0.7776\n",
            "Epoch 28/50\n",
            "944/944 [==============================] - 0s 286us/sample - loss: 0.4744 - acc: 0.7774\n",
            "Epoch 29/50\n",
            "944/944 [==============================] - 0s 280us/sample - loss: 0.4760 - acc: 0.7789\n",
            "Epoch 30/50\n",
            "944/944 [==============================] - 0s 284us/sample - loss: 0.4720 - acc: 0.7801\n",
            "Epoch 31/50\n",
            "944/944 [==============================] - 0s 280us/sample - loss: 0.4720 - acc: 0.7781\n",
            "Epoch 32/50\n",
            "944/944 [==============================] - 0s 281us/sample - loss: 0.5035 - acc: 0.7780\n",
            "Epoch 33/50\n",
            "944/944 [==============================] - 0s 280us/sample - loss: 0.4726 - acc: 0.7787\n",
            "Epoch 34/50\n",
            "944/944 [==============================] - 0s 292us/sample - loss: 0.4717 - acc: 0.7789\n",
            "Epoch 35/50\n",
            "944/944 [==============================] - 0s 287us/sample - loss: 0.4713 - acc: 0.7778\n",
            "Epoch 36/50\n",
            "944/944 [==============================] - 0s 278us/sample - loss: 0.4718 - acc: 0.7793\n",
            "Epoch 37/50\n",
            "944/944 [==============================] - 0s 284us/sample - loss: 0.4716 - acc: 0.7808\n",
            "Epoch 38/50\n",
            "944/944 [==============================] - 0s 287us/sample - loss: 0.4712 - acc: 0.7800\n",
            "Epoch 39/50\n",
            "944/944 [==============================] - 0s 284us/sample - loss: 0.4718 - acc: 0.7801\n",
            "Epoch 40/50\n",
            "944/944 [==============================] - 0s 291us/sample - loss: 0.4702 - acc: 0.7792\n",
            "Epoch 41/50\n",
            "944/944 [==============================] - 0s 295us/sample - loss: 0.4694 - acc: 0.7807\n",
            "Epoch 42/50\n",
            "944/944 [==============================] - 0s 292us/sample - loss: 0.4712 - acc: 0.7792\n",
            "Epoch 43/50\n",
            "944/944 [==============================] - 0s 279us/sample - loss: 0.4688 - acc: 0.7808\n",
            "Epoch 44/50\n",
            "944/944 [==============================] - 0s 288us/sample - loss: 0.4687 - acc: 0.7811\n",
            "Epoch 45/50\n",
            "944/944 [==============================] - 0s 291us/sample - loss: 0.4717 - acc: 0.7807\n",
            "Epoch 46/50\n",
            "944/944 [==============================] - 0s 281us/sample - loss: 0.4677 - acc: 0.7806\n",
            "Epoch 47/50\n",
            "944/944 [==============================] - 0s 276us/sample - loss: 0.4692 - acc: 0.7815\n",
            "Epoch 48/50\n",
            "944/944 [==============================] - 0s 278us/sample - loss: 0.4681 - acc: 0.7796\n",
            "Epoch 49/50\n",
            "944/944 [==============================] - 0s 287us/sample - loss: 0.4678 - acc: 0.7802\n",
            "Epoch 50/50\n",
            "944/944 [==============================] - 0s 281us/sample - loss: 0.4675 - acc: 0.7810\n"
          ],
          "name": "stdout"
        },
        {
          "output_type": "execute_result",
          "data": {
            "text/plain": [
              "<tensorflow.python.keras.callbacks.History at 0x7ff12a137278>"
            ]
          },
          "metadata": {
            "tags": []
          },
          "execution_count": 100
        }
      ]
    },
    {
      "cell_type": "code",
      "metadata": {
        "id": "5gBe5YbJ8bKv",
        "colab_type": "code",
        "outputId": "29f11a89-d3fd-45b8-fba1-b739fea00857",
        "colab": {
          "base_uri": "https://localhost:8080/",
          "height": 51
        }
      },
      "source": [
        "conv_net.evaluate(X_test, y_test)"
      ],
      "execution_count": 0,
      "outputs": [
        {
          "output_type": "stream",
          "text": [
            "237/237 [==============================] - 1s 2ms/sample - loss: 0.4746 - acc: 0.7789\n"
          ],
          "name": "stdout"
        },
        {
          "output_type": "execute_result",
          "data": {
            "text/plain": [
              "[0.47458645764282487, 0.7788718]"
            ]
          },
          "metadata": {
            "tags": []
          },
          "execution_count": 101
        }
      ]
    },
    {
      "cell_type": "code",
      "metadata": {
        "id": "ujgz4fezP8Xh",
        "colab_type": "code",
        "outputId": "427e0be7-a614-4093-9f32-5f41dad180b2",
        "colab": {
          "base_uri": "https://localhost:8080/",
          "height": 680
        }
      },
      "source": [
        "# LSTM without attention for multilabel classification. (https://machinelearningmastery.com/sequence-classification-lstm-recurrent-neural-networks-python-keras/)\n",
        "lstm_no_attention = Sequential()\n",
        "lstm_no_attention.add(Embedding(NUM_CHARS, EMBEDDING_SIZE, input_length=MAX_LENGTH))\n",
        "lstm_no_attention.add(LSTM(HIDDEN_SIZE))\n",
        "lstm_no_attention.add(Dropout(0.5))\n",
        "\n",
        "lstm_no_attention.add(Dense(NUM_ADR_CLASSES, activation='sigmoid'))\n",
        "lstm_no_attention.compile(loss='binary_crossentropy', optimizer='adam', metrics=['accuracy'])\n",
        "print(lstm_no_attention.summary())\n",
        "\n",
        "# print_weights_lstm_no_attention = LambdaCallback(on_epoch_end=lambda epoch, logs: print(lstm_no_attention.layers[2].get_weights()))\n",
        "\n",
        "# lstm_no_attention.fit(X_train, y_train,\n",
        "lstm_no_attention.fit(X_train_main, y_train_main,\n",
        "                      validation_data=(X_train_val, y_train_val),\n",
        "                      epochs=10, batch_size=64)\n",
        "                      # callbacks=[print_weights_lstm_no_attention])"
      ],
      "execution_count": 0,
      "outputs": [
        {
          "output_type": "stream",
          "text": [
            "Model: \"sequential_47\"\n",
            "_________________________________________________________________\n",
            "Layer (type)                 Output Shape              Param #   \n",
            "=================================================================\n",
            "embedding_40 (Embedding)     (None, 1695, 64)          8192      \n",
            "_________________________________________________________________\n",
            "lstm_27 (LSTM)               (None, 50)                23000     \n",
            "_________________________________________________________________\n",
            "dropout_75 (Dropout)         (None, 50)                0         \n",
            "_________________________________________________________________\n",
            "dense_94 (Dense)             (None, 27)                1377      \n",
            "=================================================================\n",
            "Total params: 32,569\n",
            "Trainable params: 32,569\n",
            "Non-trainable params: 0\n",
            "_________________________________________________________________\n",
            "None\n",
            "Train on 755 samples, validate on 189 samples\n",
            "Epoch 1/10\n",
            "755/755 [==============================] - 33s 43ms/sample - loss: 0.6806 - acc: 0.6353 - val_loss: 0.6552 - val_acc: 0.7580\n",
            "Epoch 2/10\n",
            "755/755 [==============================] - 29s 39ms/sample - loss: 0.6147 - acc: 0.7086 - val_loss: 0.5428 - val_acc: 0.7580\n",
            "Epoch 3/10\n",
            "755/755 [==============================] - 29s 38ms/sample - loss: 0.5563 - acc: 0.7418 - val_loss: 0.5007 - val_acc: 0.7825\n",
            "Epoch 4/10\n",
            "755/755 [==============================] - 29s 38ms/sample - loss: 0.5298 - acc: 0.7559 - val_loss: 0.4834 - val_acc: 0.7825\n",
            "Epoch 5/10\n",
            "755/755 [==============================] - 29s 38ms/sample - loss: 0.5173 - acc: 0.7629 - val_loss: 0.4744 - val_acc: 0.7825\n",
            "Epoch 6/10\n",
            "755/755 [==============================] - 28s 38ms/sample - loss: 0.5101 - acc: 0.7636 - val_loss: 0.4726 - val_acc: 0.7825\n",
            "Epoch 7/10\n",
            "755/755 [==============================] - 28s 37ms/sample - loss: 0.5051 - acc: 0.7669 - val_loss: 0.4703 - val_acc: 0.7825\n",
            "Epoch 8/10\n",
            "755/755 [==============================] - 28s 37ms/sample - loss: 0.5025 - acc: 0.7667 - val_loss: 0.4702 - val_acc: 0.7825\n",
            "Epoch 9/10\n",
            "755/755 [==============================] - 28s 37ms/sample - loss: 0.5038 - acc: 0.7692 - val_loss: 0.4694 - val_acc: 0.7825\n",
            "Epoch 10/10\n",
            "755/755 [==============================] - 29s 38ms/sample - loss: 0.5029 - acc: 0.7673 - val_loss: 0.4697 - val_acc: 0.7825\n"
          ],
          "name": "stdout"
        },
        {
          "output_type": "execute_result",
          "data": {
            "text/plain": [
              "<tensorflow.python.keras.callbacks.History at 0x7ff113335780>"
            ]
          },
          "metadata": {
            "tags": []
          },
          "execution_count": 205
        }
      ]
    },
    {
      "cell_type": "code",
      "metadata": {
        "id": "Szib_I1EXbWu",
        "colab_type": "code",
        "outputId": "5bb50cea-a2cf-4c5e-d336-75fc4e2bac47",
        "colab": {
          "base_uri": "https://localhost:8080/",
          "height": 51
        }
      },
      "source": [
        "# lstm_no_attention_predictions = lstm_no_attention.predict(X_test)\n",
        "# Return test loss (binary crossentropy) and accuracy (avg binary accuracy, calculated as fraction of 27 labels that are correct for each output vector)\n",
        "lstm_no_attention.evaluate(X_test, y_test)"
      ],
      "execution_count": 0,
      "outputs": [
        {
          "output_type": "stream",
          "text": [
            "237/237 [==============================] - 4s 15ms/sample - loss: 0.4700 - acc: 0.7801\n"
          ],
          "name": "stdout"
        },
        {
          "output_type": "execute_result",
          "data": {
            "text/plain": [
              "[0.4699802074251296, 0.78012186]"
            ]
          },
          "metadata": {
            "tags": []
          },
          "execution_count": 206
        }
      ]
    },
    {
      "cell_type": "code",
      "metadata": {
        "id": "mornHH0Tma-a",
        "colab_type": "code",
        "outputId": "d3e1b7e6-2f8f-48be-ee4e-2dac0fdaa08f",
        "colab": {
          "base_uri": "https://localhost:8080/",
          "height": 295
        }
      },
      "source": [
        "plot_results(lstm_no_attention, title=\"LSTM w/o attention\", val=True)"
      ],
      "execution_count": 0,
      "outputs": [
        {
          "output_type": "display_data",
          "data": {
            "image/png": "[encoded data removed]",
            "text/plain": [
              "<Figure size 432x288 with 1 Axes>"
            ]
          },
          "metadata": {
            "tags": []
          }
        }
      ]
    },
    {
      "cell_type": "code",
      "metadata": {
        "id": "6PB6HWj4uUct",
        "colab_type": "code",
        "outputId": "e51af5cd-019d-44c4-caea-e8513000c2a6",
        "colab": {
          "base_uri": "https://localhost:8080/",
          "height": 647
        }
      },
      "source": [
        "pseudo_labeling(lstm_no_attention, 5, 2, 64)"
      ],
      "execution_count": 0,
      "outputs": [
        {
          "output_type": "stream",
          "text": [
            "Train on 1055 samples, validate on 189 samples\n",
            "Epoch 1/2\n",
            "1055/1055 [==============================] - 44s 41ms/sample - loss: 0.4068 - acc: 0.8416 - val_loss: 0.5111 - val_acc: 0.7692\n",
            "Epoch 2/2\n",
            "1055/1055 [==============================] - 43s 41ms/sample - loss: 0.4014 - acc: 0.8416 - val_loss: 0.5138 - val_acc: 0.7692\n",
            "755/755 [==============================] - 12s 16ms/sample - loss: 0.4940 - acc: 0.7787\n",
            "300/300 [==============================] - 5s 16ms/sample - loss: 0.1670 - acc: 1.0000\n",
            "1055/1055 [==============================] - 16s 16ms/sample - loss: 0.4010 - acc: 0.8416\n",
            "237/237 [==============================] - 4s 17ms/sample - loss: 0.4854 - acc: 0.7801\n",
            "Train on 1055 samples, validate on 189 samples\n",
            "Epoch 1/2\n",
            "1055/1055 [==============================] - 43s 41ms/sample - loss: 0.4011 - acc: 0.8416 - val_loss: 0.5055 - val_acc: 0.7692\n",
            "Epoch 2/2\n",
            "1055/1055 [==============================] - 43s 41ms/sample - loss: 0.4011 - acc: 0.8416 - val_loss: 0.5073 - val_acc: 0.7692\n",
            "755/755 [==============================] - 12s 16ms/sample - loss: 0.4881 - acc: 0.7787\n",
            "300/300 [==============================] - 5s 16ms/sample - loss: 0.1801 - acc: 1.0000\n",
            "1055/1055 [==============================] - 16s 16ms/sample - loss: 0.4005 - acc: 0.8416\n",
            "237/237 [==============================] - 4s 17ms/sample - loss: 0.4797 - acc: 0.7801\n",
            "Train on 1055 samples, validate on 189 samples\n",
            "Epoch 1/2\n"
          ],
          "name": "stdout"
        },
        {
          "output_type": "error",
          "ename": "KeyboardInterrupt",
          "evalue": "ignored",
          "traceback": [
            "\u001b[0;31m---------------------------------------------------------------------------\u001b[0m",
            "\u001b[0;31mKeyboardInterrupt\u001b[0m                         Traceback (most recent call last)",
            "\u001b[0;32m<ipython-input-75-b752891dd769>\u001b[0m in \u001b[0;36m<module>\u001b[0;34m()\u001b[0m\n\u001b[0;32m----> 1\u001b[0;31m \u001b[0mpseudo_labeling\u001b[0m\u001b[0;34m(\u001b[0m\u001b[0mlstm_no_attention\u001b[0m\u001b[0;34m,\u001b[0m \u001b[0;36m5\u001b[0m\u001b[0;34m,\u001b[0m \u001b[0;36m2\u001b[0m\u001b[0;34m,\u001b[0m \u001b[0;36m64\u001b[0m\u001b[0;34m)\u001b[0m\u001b[0;34m\u001b[0m\u001b[0;34m\u001b[0m\u001b[0m\n\u001b[0m",
            "\u001b[0;32m<ipython-input-72-6117f44ff78d>\u001b[0m in \u001b[0;36mpseudo_labeling\u001b[0;34m(model, iterations, num_epochs, batch_size)\u001b[0m\n\u001b[1;32m     10\u001b[0m         model.fit(X_combined, y_combined,\n\u001b[1;32m     11\u001b[0m                             \u001b[0mvalidation_data\u001b[0m\u001b[0;34m=\u001b[0m\u001b[0;34m(\u001b[0m\u001b[0mX_train_val\u001b[0m\u001b[0;34m,\u001b[0m \u001b[0my_train_val\u001b[0m\u001b[0;34m)\u001b[0m\u001b[0;34m,\u001b[0m\u001b[0;34m\u001b[0m\u001b[0;34m\u001b[0m\u001b[0m\n\u001b[0;32m---> 12\u001b[0;31m                             epochs=num_epochs, batch_size=batch_size)\n\u001b[0m\u001b[1;32m     13\u001b[0m \u001b[0;34m\u001b[0m\u001b[0m\n\u001b[1;32m     14\u001b[0m         \u001b[0mmodel\u001b[0m\u001b[0;34m.\u001b[0m\u001b[0mevaluate\u001b[0m\u001b[0;34m(\u001b[0m\u001b[0mX_train_main\u001b[0m\u001b[0;34m,\u001b[0m \u001b[0my_train_main\u001b[0m\u001b[0;34m)\u001b[0m\u001b[0;34m\u001b[0m\u001b[0;34m\u001b[0m\u001b[0m\n",
            "\u001b[0;32m/usr/local/lib/python3.6/dist-packages/tensorflow_core/python/keras/engine/training.py\u001b[0m in \u001b[0;36mfit\u001b[0;34m(self, x, y, batch_size, epochs, verbose, callbacks, validation_split, validation_data, shuffle, class_weight, sample_weight, initial_epoch, steps_per_epoch, validation_steps, validation_freq, max_queue_size, workers, use_multiprocessing, **kwargs)\u001b[0m\n\u001b[1;32m    725\u001b[0m         \u001b[0mmax_queue_size\u001b[0m\u001b[0;34m=\u001b[0m\u001b[0mmax_queue_size\u001b[0m\u001b[0;34m,\u001b[0m\u001b[0;34m\u001b[0m\u001b[0;34m\u001b[0m\u001b[0m\n\u001b[1;32m    726\u001b[0m         \u001b[0mworkers\u001b[0m\u001b[0;34m=\u001b[0m\u001b[0mworkers\u001b[0m\u001b[0;34m,\u001b[0m\u001b[0;34m\u001b[0m\u001b[0;34m\u001b[0m\u001b[0m\n\u001b[0;32m--> 727\u001b[0;31m         use_multiprocessing=use_multiprocessing)\n\u001b[0m\u001b[1;32m    728\u001b[0m \u001b[0;34m\u001b[0m\u001b[0m\n\u001b[1;32m    729\u001b[0m   def evaluate(self,\n",
            "\u001b[0;32m/usr/local/lib/python3.6/dist-packages/tensorflow_core/python/keras/engine/training_arrays.py\u001b[0m in \u001b[0;36mfit\u001b[0;34m(self, model, x, y, batch_size, epochs, verbose, callbacks, validation_split, validation_data, shuffle, class_weight, sample_weight, initial_epoch, steps_per_epoch, validation_steps, validation_freq, **kwargs)\u001b[0m\n\u001b[1;32m    673\u001b[0m         \u001b[0mvalidation_steps\u001b[0m\u001b[0;34m=\u001b[0m\u001b[0mvalidation_steps\u001b[0m\u001b[0;34m,\u001b[0m\u001b[0;34m\u001b[0m\u001b[0;34m\u001b[0m\u001b[0m\n\u001b[1;32m    674\u001b[0m         \u001b[0mvalidation_freq\u001b[0m\u001b[0;34m=\u001b[0m\u001b[0mvalidation_freq\u001b[0m\u001b[0;34m,\u001b[0m\u001b[0;34m\u001b[0m\u001b[0;34m\u001b[0m\u001b[0m\n\u001b[0;32m--> 675\u001b[0;31m         steps_name='steps_per_epoch')\n\u001b[0m\u001b[1;32m    676\u001b[0m \u001b[0;34m\u001b[0m\u001b[0m\n\u001b[1;32m    677\u001b[0m   def evaluate(self,\n",
            "\u001b[0;32m/usr/local/lib/python3.6/dist-packages/tensorflow_core/python/keras/engine/training_arrays.py\u001b[0m in \u001b[0;36mmodel_iteration\u001b[0;34m(model, inputs, targets, sample_weights, batch_size, epochs, verbose, callbacks, val_inputs, val_targets, val_sample_weights, shuffle, initial_epoch, steps_per_epoch, validation_steps, validation_freq, mode, validation_in_fit, prepared_feed_values_from_dataset, steps_name, **kwargs)\u001b[0m\n\u001b[1;32m    392\u001b[0m \u001b[0;34m\u001b[0m\u001b[0m\n\u001b[1;32m    393\u001b[0m         \u001b[0;31m# Get outputs.\u001b[0m\u001b[0;34m\u001b[0m\u001b[0;34m\u001b[0m\u001b[0;34m\u001b[0m\u001b[0m\n\u001b[0;32m--> 394\u001b[0;31m         \u001b[0mbatch_outs\u001b[0m \u001b[0;34m=\u001b[0m \u001b[0mf\u001b[0m\u001b[0;34m(\u001b[0m\u001b[0mins_batch\u001b[0m\u001b[0;34m)\u001b[0m\u001b[0;34m\u001b[0m\u001b[0;34m\u001b[0m\u001b[0m\n\u001b[0m\u001b[1;32m    395\u001b[0m         \u001b[0;32mif\u001b[0m \u001b[0;32mnot\u001b[0m \u001b[0misinstance\u001b[0m\u001b[0;34m(\u001b[0m\u001b[0mbatch_outs\u001b[0m\u001b[0;34m,\u001b[0m \u001b[0mlist\u001b[0m\u001b[0;34m)\u001b[0m\u001b[0;34m:\u001b[0m\u001b[0;34m\u001b[0m\u001b[0;34m\u001b[0m\u001b[0m\n\u001b[1;32m    396\u001b[0m           \u001b[0mbatch_outs\u001b[0m \u001b[0;34m=\u001b[0m \u001b[0;34m[\u001b[0m\u001b[0mbatch_outs\u001b[0m\u001b[0;34m]\u001b[0m\u001b[0;34m\u001b[0m\u001b[0;34m\u001b[0m\u001b[0m\n",
            "\u001b[0;32m/usr/local/lib/python3.6/dist-packages/tensorflow_core/python/keras/backend.py\u001b[0m in \u001b[0;36m__call__\u001b[0;34m(self, inputs)\u001b[0m\n\u001b[1;32m   3474\u001b[0m \u001b[0;34m\u001b[0m\u001b[0m\n\u001b[1;32m   3475\u001b[0m     fetched = self._callable_fn(*array_vals,\n\u001b[0;32m-> 3476\u001b[0;31m                                 run_metadata=self.run_metadata)\n\u001b[0m\u001b[1;32m   3477\u001b[0m     \u001b[0mself\u001b[0m\u001b[0;34m.\u001b[0m\u001b[0m_call_fetch_callbacks\u001b[0m\u001b[0;34m(\u001b[0m\u001b[0mfetched\u001b[0m\u001b[0;34m[\u001b[0m\u001b[0;34m-\u001b[0m\u001b[0mlen\u001b[0m\u001b[0;34m(\u001b[0m\u001b[0mself\u001b[0m\u001b[0;34m.\u001b[0m\u001b[0m_fetches\u001b[0m\u001b[0;34m)\u001b[0m\u001b[0;34m:\u001b[0m\u001b[0;34m]\u001b[0m\u001b[0;34m)\u001b[0m\u001b[0;34m\u001b[0m\u001b[0;34m\u001b[0m\u001b[0m\n\u001b[1;32m   3478\u001b[0m     output_structure = nest.pack_sequence_as(\n",
            "\u001b[0;32m/usr/local/lib/python3.6/dist-packages/tensorflow_core/python/client/session.py\u001b[0m in \u001b[0;36m__call__\u001b[0;34m(self, *args, **kwargs)\u001b[0m\n\u001b[1;32m   1470\u001b[0m         ret = tf_session.TF_SessionRunCallable(self._session._session,\n\u001b[1;32m   1471\u001b[0m                                                \u001b[0mself\u001b[0m\u001b[0;34m.\u001b[0m\u001b[0m_handle\u001b[0m\u001b[0;34m,\u001b[0m \u001b[0margs\u001b[0m\u001b[0;34m,\u001b[0m\u001b[0;34m\u001b[0m\u001b[0;34m\u001b[0m\u001b[0m\n\u001b[0;32m-> 1472\u001b[0;31m                                                run_metadata_ptr)\n\u001b[0m\u001b[1;32m   1473\u001b[0m         \u001b[0;32mif\u001b[0m \u001b[0mrun_metadata\u001b[0m\u001b[0;34m:\u001b[0m\u001b[0;34m\u001b[0m\u001b[0;34m\u001b[0m\u001b[0m\n\u001b[1;32m   1474\u001b[0m           \u001b[0mproto_data\u001b[0m \u001b[0;34m=\u001b[0m \u001b[0mtf_session\u001b[0m\u001b[0;34m.\u001b[0m\u001b[0mTF_GetBuffer\u001b[0m\u001b[0;34m(\u001b[0m\u001b[0mrun_metadata_ptr\u001b[0m\u001b[0;34m)\u001b[0m\u001b[0;34m\u001b[0m\u001b[0;34m\u001b[0m\u001b[0m\n",
            "\u001b[0;31mKeyboardInterrupt\u001b[0m: "
          ]
        }
      ]
    },
    {
      "cell_type": "code",
      "metadata": {
        "id": "FcTH9Axkh2Xn",
        "colab_type": "code",
        "colab": {}
      },
      "source": [
        "# Create LSTM with Attention using Keras Functional API\n",
        "# (https://stackoverflow.com/questions/42918446/how-to-add-an-attention-mechanism-in-keras)\n",
        "def create_lstm_with_attention():\n",
        "    _input = Input(shape=[MAX_LENGTH])\n",
        "    embedded = Embedding(\n",
        "            input_dim=NUM_CHARS,\n",
        "            output_dim=EMBEDDING_SIZE,\n",
        "            input_length=MAX_LENGTH,\n",
        "            trainable=False,\n",
        "            mask_zero=False\n",
        "        )(_input)\n",
        "    activations = LSTM(HIDDEN_SIZE)(embedded)\n",
        "    activations = Dropout(0.5)(activations)\n",
        "    \n",
        "    # Attention\n",
        "    attention = Dense(1, activation='tanh')(activations) # 'softmax'\n",
        "    # attention = Dense(1)(attention)\n",
        "    attention = Flatten()(attention)\n",
        "    attention = Activation('softmax')(attention)\n",
        "    attention = RepeatVector(HIDDEN_SIZE)(attention)\n",
        "    attention = Permute([2, 1])(attention)\n",
        "    output_attention = multiply([activations, attention])\n",
        "\n",
        "    # output_attention = LSTM(HIDDEN_SIZE)(output_attention)\n",
        "\n",
        "    output_attention = Lambda(lambda xin: K.sum(xin, axis=-2), output_shape=(HIDDEN_SIZE,))(output_attention)\n",
        "    output = Dense(NUM_ADR_CLASSES, activation='sigmoid')(output_attention)\n",
        "    lstm_attention = Model(inputs=[_input], outputs=output, name=\"lstm_attention\")\n",
        "    return lstm_attention"
      ],
      "execution_count": 0,
      "outputs": []
    },
    {
      "cell_type": "code",
      "metadata": {
        "id": "RdlTvnSYi7RU",
        "colab_type": "code",
        "outputId": "f42de914-96f2-4546-8ece-b59788dfd971",
        "colab": {
          "base_uri": "https://localhost:8080/",
          "height": 969
        }
      },
      "source": [
        "lstm_attention = create_lstm_with_attention()\n",
        "# adam = optimizers.Adam(learning_rate=0.01, beta_1=0.9, beta_2=0.999, amsgrad=False)\n",
        "lstm_attention.compile(loss='binary_crossentropy', optimizer='adam', metrics=['accuracy'])\n",
        "\n",
        "print(lstm_attention.summary())\n",
        "\n",
        "lstm_attention.fit(X_train, y_train,\n",
        "# lstm_attention.fit(X_train_main, y_train_main,\n",
        "#                          validation_data=(X_train_val, y_train_val),\n",
        "                         epochs=10, batch_size=64)"
      ],
      "execution_count": 0,
      "outputs": [
        {
          "output_type": "stream",
          "text": [
            "Model: \"lstm_attention\"\n",
            "__________________________________________________________________________________________________\n",
            "Layer (type)                    Output Shape         Param #     Connected to                     \n",
            "==================================================================================================\n",
            "input_27 (InputLayer)           [(None, 1695)]       0                                            \n",
            "__________________________________________________________________________________________________\n",
            "embedding_36 (Embedding)        (None, 1695, 64)     8192        input_27[0][0]                   \n",
            "__________________________________________________________________________________________________\n",
            "lstm_23 (LSTM)                  (None, 50)           23000       embedding_36[0][0]               \n",
            "__________________________________________________________________________________________________\n",
            "dropout_69 (Dropout)            (None, 50)           0           lstm_23[0][0]                    \n",
            "__________________________________________________________________________________________________\n",
            "dense_85 (Dense)                (None, 1)            51          dropout_69[0][0]                 \n",
            "__________________________________________________________________________________________________\n",
            "flatten_11 (Flatten)            (None, 1)            0           dense_85[0][0]                   \n",
            "__________________________________________________________________________________________________\n",
            "activation_14 (Activation)      (None, 1)            0           flatten_11[0][0]                 \n",
            "__________________________________________________________________________________________________\n",
            "repeat_vector_11 (RepeatVector) (None, 50, 1)        0           activation_14[0][0]              \n",
            "__________________________________________________________________________________________________\n",
            "permute_11 (Permute)            (None, 1, 50)        0           repeat_vector_11[0][0]           \n",
            "__________________________________________________________________________________________________\n",
            "multiply_11 (Multiply)          (None, 1, 50)        0           dropout_69[0][0]                 \n",
            "                                                                 permute_11[0][0]                 \n",
            "__________________________________________________________________________________________________\n",
            "lambda_9 (Lambda)               (None, 50)           0           multiply_11[0][0]                \n",
            "__________________________________________________________________________________________________\n",
            "dense_86 (Dense)                (None, 27)           1377        lambda_9[0][0]                   \n",
            "==================================================================================================\n",
            "Total params: 32,620\n",
            "Trainable params: 24,428\n",
            "Non-trainable params: 8,192\n",
            "__________________________________________________________________________________________________\n",
            "None\n",
            "Train on 944 samples\n",
            "Epoch 1/10\n",
            "944/944 [==============================] - 35s 37ms/sample - loss: 0.6783 - acc: 0.6541\n",
            "Epoch 2/10\n",
            "944/944 [==============================] - 33s 35ms/sample - loss: 0.5929 - acc: 0.7211\n",
            "Epoch 3/10\n",
            "944/944 [==============================] - 33s 35ms/sample - loss: 0.5366 - acc: 0.7543\n",
            "Epoch 4/10\n",
            "944/944 [==============================] - 33s 35ms/sample - loss: 0.5153 - acc: 0.7649\n",
            "Epoch 5/10\n",
            "944/944 [==============================] - 33s 35ms/sample - loss: 0.5105 - acc: 0.7646\n",
            "Epoch 6/10\n",
            "944/944 [==============================] - 33s 35ms/sample - loss: 0.5030 - acc: 0.7705\n",
            "Epoch 7/10\n",
            "944/944 [==============================] - 34s 36ms/sample - loss: 0.5027 - acc: 0.7664\n",
            "Epoch 8/10\n",
            "944/944 [==============================] - 33s 35ms/sample - loss: 0.4988 - acc: 0.7674\n",
            "Epoch 9/10\n",
            "944/944 [==============================] - 33s 35ms/sample - loss: 0.5000 - acc: 0.7695\n",
            "Epoch 10/10\n",
            "944/944 [==============================] - 33s 35ms/sample - loss: 0.4975 - acc: 0.7697\n"
          ],
          "name": "stdout"
        },
        {
          "output_type": "execute_result",
          "data": {
            "text/plain": [
              "<tensorflow.python.keras.callbacks.History at 0x7ff1144ef358>"
            ]
          },
          "metadata": {
            "tags": []
          },
          "execution_count": 188
        }
      ]
    },
    {
      "cell_type": "code",
      "metadata": {
        "id": "o9ssmHasjGZ8",
        "colab_type": "code",
        "outputId": "905d511c-01f6-47da-ea8d-f4e6eae23ac8",
        "colab": {
          "base_uri": "https://localhost:8080/",
          "height": 51
        }
      },
      "source": [
        "lstm_attention.evaluate(X_test, y_test)"
      ],
      "execution_count": 0,
      "outputs": [
        {
          "output_type": "stream",
          "text": [
            "237/237 [==============================] - 4s 18ms/sample - loss: 0.4694 - acc: 0.7801\n"
          ],
          "name": "stdout"
        },
        {
          "output_type": "execute_result",
          "data": {
            "text/plain": [
              "[0.46937746538894587, 0.78012186]"
            ]
          },
          "metadata": {
            "tags": []
          },
          "execution_count": 189
        }
      ]
    },
    {
      "cell_type": "code",
      "metadata": {
        "id": "a2TvJy7eZ6HI",
        "colab_type": "code",
        "outputId": "828dba27-3dec-4df8-d0b6-da775eabddab",
        "colab": {
          "base_uri": "https://localhost:8080/",
          "height": 295
        }
      },
      "source": [
        "plot_results(lstm_attention, title=\"LSTM w/ attention\")"
      ],
      "execution_count": 0,
      "outputs": [
        {
          "output_type": "display_data",
          "data": {
            "image/png": "[encoded data removed]",
            "text/plain": [
              "<Figure size 432x288 with 1 Axes>"
            ]
          },
          "metadata": {
            "tags": []
          }
        }
      ]
    },
    {
      "cell_type": "code",
      "metadata": {
        "id": "YC7_DNh_oQM6",
        "colab_type": "code",
        "colab": {}
      },
      "source": [
        "# Create Encoder Decoder with Attention using Keras Functional API\n",
        "# (https://stackoverflow.com/questions/42918446/how-to-add-an-attention-mechanism-in-keras)\n",
        "HIDDEN_SIZE=10\n",
        "def create_enc_dec_with_attention():\n",
        "    _input = Input(shape=[MAX_LENGTH])\n",
        "    embedded = Embedding(\n",
        "            input_dim=NUM_CHARS,\n",
        "            output_dim=EMBEDDING_SIZE,\n",
        "            input_length=MAX_LENGTH,\n",
        "            trainable=False,\n",
        "            mask_zero=False\n",
        "        )(_input)\n",
        "    activations = LSTM(HIDDEN_SIZE, return_sequences=True)(embedded)\n",
        "    activations = Dropout(0.5)(activations)\n",
        "    activations = LSTM(HIDDEN_SIZE, return_sequences=True)(activations)\n",
        "    \n",
        "    # Attention\n",
        "    attention = Dense(1, activation='tanh')(activations) # 'softmax'\n",
        "    # attention = Dense(1)(attention)\n",
        "    attention = Flatten()(attention)\n",
        "    attention = Activation('softmax')(attention)\n",
        "    attention = RepeatVector(HIDDEN_SIZE)(attention)\n",
        "    attention = Permute([2, 1])(attention)\n",
        "    output_attention = multiply([activations, attention])\n",
        "    output_attention = LSTM(HIDDEN_SIZE, return_sequences=True)(output_attention)\n",
        "    output_attention = Dropout(0.5)(activations)\n",
        "    output_attention = LSTM(HIDDEN_SIZE)(output_attention)\n",
        "    output = Dense(NUM_ADR_CLASSES, activation='sigmoid')(output_attention)\n",
        "    lstm_attention = Model(inputs=[_input], outputs=output, name=\"enc_dec\")\n",
        "    return lstm_attention"
      ],
      "execution_count": 0,
      "outputs": []
    },
    {
      "cell_type": "code",
      "metadata": {
        "id": "UGlqIZVwob53",
        "colab_type": "code",
        "outputId": "827f6329-bcaa-4ebb-89a9-74a6b4e8229e",
        "colab": {
          "base_uri": "https://localhost:8080/",
          "height": 646
        }
      },
      "source": [
        "enc_dec = create_enc_dec_with_attention()\n",
        "enc_dec.compile(loss='binary_crossentropy', optimizer='adam', metrics=['accuracy'])\n",
        "\n",
        "print(enc_dec.summary())\n",
        "\n",
        "enc_dec.fit(X_train_main, y_train_main,\n",
        "                         validation_data=(X_train_val, y_train_val),\n",
        "                         epochs=5, batch_size=64)"
      ],
      "execution_count": 0,
      "outputs": [
        {
          "output_type": "stream",
          "text": [
            "Model: \"enc_dec\"\n",
            "_________________________________________________________________\n",
            "Layer (type)                 Output Shape              Param #   \n",
            "=================================================================\n",
            "input_8 (InputLayer)         [(None, 1695)]            0         \n",
            "_________________________________________________________________\n",
            "embedding_5 (Embedding)      (None, 1695, 64)          8192      \n",
            "_________________________________________________________________\n",
            "lstm_7 (LSTM)                (None, 1695, 10)          3000      \n",
            "_________________________________________________________________\n",
            "dropout_9 (Dropout)          (None, 1695, 10)          0         \n",
            "_________________________________________________________________\n",
            "lstm_8 (LSTM)                (None, 1695, 10)          840       \n",
            "_________________________________________________________________\n",
            "dropout_10 (Dropout)         (None, 1695, 10)          0         \n",
            "_________________________________________________________________\n",
            "lstm_10 (LSTM)               (None, 10)                840       \n",
            "_________________________________________________________________\n",
            "dense_13 (Dense)             (None, 27)                297       \n",
            "=================================================================\n",
            "Total params: 13,169\n",
            "Trainable params: 4,977\n",
            "Non-trainable params: 8,192\n",
            "_________________________________________________________________\n",
            "None\n",
            "Train on 755 samples, validate on 189 samples\n",
            "Epoch 1/5\n",
            "755/755 [==============================] - 88s 116ms/sample - loss: 0.6909 - acc: 0.6046 - val_loss: 0.6869 - val_acc: 0.7008\n",
            "Epoch 2/5\n",
            "755/755 [==============================] - 86s 114ms/sample - loss: 0.6817 - acc: 0.7023 - val_loss: 0.6742 - val_acc: 0.7008\n",
            "Epoch 3/5\n",
            "755/755 [==============================] - 86s 114ms/sample - loss: 0.6627 - acc: 0.7099 - val_loss: 0.6462 - val_acc: 0.7008\n",
            "Epoch 4/5\n",
            "755/755 [==============================] - 87s 115ms/sample - loss: 0.6295 - acc: 0.7218 - val_loss: 0.6102 - val_acc: 0.7362\n",
            "Epoch 5/5\n",
            "755/755 [==============================] - 87s 115ms/sample - loss: 0.5941 - acc: 0.7339 - val_loss: 0.5771 - val_acc: 0.7396\n"
          ],
          "name": "stdout"
        },
        {
          "output_type": "execute_result",
          "data": {
            "text/plain": [
              "<tensorflow.python.keras.callbacks.History at 0x7ff12ddc4860>"
            ]
          },
          "metadata": {
            "tags": []
          },
          "execution_count": 25
        }
      ]
    },
    {
      "cell_type": "code",
      "metadata": {
        "id": "QrBVnktrolwS",
        "colab_type": "code",
        "outputId": "ca3e51b7-f071-4c13-e06e-e81f8673f2cd",
        "colab": {
          "base_uri": "https://localhost:8080/",
          "height": 51
        }
      },
      "source": [
        "enc_dec.evaluate(X_test, y_test)"
      ],
      "execution_count": 0,
      "outputs": [
        {
          "output_type": "stream",
          "text": [
            "237/237 [==============================] - 11s 47ms/sample - loss: 0.5729 - acc: 0.7436\n"
          ],
          "name": "stdout"
        },
        {
          "output_type": "execute_result",
          "data": {
            "text/plain": [
              "[0.5728622335421888, 0.74355364]"
            ]
          },
          "metadata": {
            "tags": []
          },
          "execution_count": 27
        }
      ]
    },
    {
      "cell_type": "code",
      "metadata": {
        "id": "asz3JM_tjZ50",
        "colab_type": "code",
        "outputId": "992da822-8390-4e8e-cdbf-3d42cac0b4a1",
        "colab": {
          "base_uri": "https://localhost:8080/",
          "height": 680
        }
      },
      "source": [
        "# Bidirectional LSTM without Attention (https://keras.io/examples/imdb_bidirectional_lstm/)\n",
        "bi_lstm_no_attention = Sequential()\n",
        "bi_lstm_no_attention.add(Embedding(NUM_CHARS, EMBEDDING_SIZE, input_length=MAX_LENGTH))\n",
        "bi_lstm_no_attention.add(Bidirectional(LSTM(HIDDEN_SIZE)))\n",
        "bi_lstm_no_attention.add(Dropout(0.5))\n",
        "\n",
        "bi_lstm_no_attention.add(Dense(NUM_ADR_CLASSES, activation='sigmoid'))\n",
        "bi_lstm_no_attention.compile(loss='binary_crossentropy', optimizer='adam', metrics=['accuracy'])\n",
        "print(bi_lstm_no_attention.summary())\n",
        "\n",
        "bi_lstm_no_attention.fit(X_train, y_train,\n",
        "# bi_lstm_no_attention.fit(X_train_main, y_train_main,\n",
        "#                          validation_data=(X_train_val, y_train_val),\n",
        "                         epochs=10, batch_size=64)"
      ],
      "execution_count": 0,
      "outputs": [
        {
          "output_type": "stream",
          "text": [
            "Model: \"sequential_45\"\n",
            "_________________________________________________________________\n",
            "Layer (type)                 Output Shape              Param #   \n",
            "=================================================================\n",
            "embedding_39 (Embedding)     (None, 1695, 64)          8192      \n",
            "_________________________________________________________________\n",
            "bidirectional_2 (Bidirection (None, 100)               46000     \n",
            "_________________________________________________________________\n",
            "dropout_72 (Dropout)         (None, 100)               0         \n",
            "_________________________________________________________________\n",
            "dense_90 (Dense)             (None, 27)                2727      \n",
            "=================================================================\n",
            "Total params: 56,919\n",
            "Trainable params: 56,919\n",
            "Non-trainable params: 0\n",
            "_________________________________________________________________\n",
            "None\n",
            "Train on 944 samples\n",
            "Epoch 1/10\n",
            "944/944 [==============================] - 87s 92ms/sample - loss: 0.6693 - acc: 0.6851\n",
            "Epoch 2/10\n",
            "944/944 [==============================] - 85s 90ms/sample - loss: 0.5534 - acc: 0.7560\n",
            "Epoch 3/10\n",
            "944/944 [==============================] - 90s 95ms/sample - loss: 0.5060 - acc: 0.7677\n",
            "Epoch 4/10\n",
            "944/944 [==============================] - 84s 89ms/sample - loss: 0.4973 - acc: 0.7679\n",
            "Epoch 5/10\n",
            "944/944 [==============================] - 87s 92ms/sample - loss: 0.4930 - acc: 0.7717\n",
            "Epoch 6/10\n",
            "944/944 [==============================] - 82s 86ms/sample - loss: 0.4902 - acc: 0.7728\n",
            "Epoch 7/10\n",
            "944/944 [==============================] - 86s 91ms/sample - loss: 0.4870 - acc: 0.7739\n",
            "Epoch 8/10\n",
            "944/944 [==============================] - 84s 88ms/sample - loss: 0.4862 - acc: 0.7739\n",
            "Epoch 9/10\n",
            "944/944 [==============================] - 87s 92ms/sample - loss: 0.4857 - acc: 0.7746\n",
            "Epoch 10/10\n",
            "944/944 [==============================] - 83s 88ms/sample - loss: 0.4819 - acc: 0.7737\n"
          ],
          "name": "stdout"
        },
        {
          "output_type": "execute_result",
          "data": {
            "text/plain": [
              "<tensorflow.python.keras.callbacks.History at 0x7ff1137847b8>"
            ]
          },
          "metadata": {
            "tags": []
          },
          "execution_count": 198
        }
      ]
    },
    {
      "cell_type": "code",
      "metadata": {
        "id": "9VGL5VqxjehW",
        "colab_type": "code",
        "outputId": "d3f37a51-b619-44bd-f93d-e658c0e04e40",
        "colab": {
          "base_uri": "https://localhost:8080/",
          "height": 51
        }
      },
      "source": [
        "bi_lstm_no_attention.evaluate(X_test, y_test)"
      ],
      "execution_count": 0,
      "outputs": [
        {
          "output_type": "stream",
          "text": [
            "237/237 [==============================] - 8s 34ms/sample - loss: 0.4657 - acc: 0.7798\n"
          ],
          "name": "stdout"
        },
        {
          "output_type": "execute_result",
          "data": {
            "text/plain": [
              "[0.4656837044385918, 0.77980936]"
            ]
          },
          "metadata": {
            "tags": []
          },
          "execution_count": 199
        }
      ]
    },
    {
      "cell_type": "code",
      "metadata": {
        "id": "eA-6Daljbtcv",
        "colab_type": "code",
        "outputId": "a21aab75-c773-495a-e1d3-2d38259819dc",
        "colab": {
          "base_uri": "https://localhost:8080/",
          "height": 295
        }
      },
      "source": [
        "plot_results(bi_lstm_no_attention, title=\"Bi-LSTM w/o attention\")"
      ],
      "execution_count": 0,
      "outputs": [
        {
          "output_type": "display_data",
          "data": {
            "image/png": "[encoded data removed]",
            "text/plain": [
              "<Figure size 432x288 with 1 Axes>"
            ]
          },
          "metadata": {
            "tags": []
          }
        }
      ]
    },
    {
      "cell_type": "code",
      "metadata": {
        "id": "lNr_Wl-GmQwE",
        "colab_type": "code",
        "colab": {}
      },
      "source": [
        "# create Bidirectional LSTM with Attention using Keras Functional API\n",
        "def create_bi_lstm_with_attention():\n",
        "    _input = Input(shape=[MAX_LENGTH])\n",
        "    embedded = Embedding(\n",
        "            input_dim=NUM_CHARS,\n",
        "            output_dim=EMBEDDING_SIZE,\n",
        "            input_length=MAX_LENGTH,\n",
        "            trainable=False,\n",
        "            mask_zero=False\n",
        "        )(_input)\n",
        "    activations = Bidirectional(LSTM(HIDDEN_SIZE, return_sequences=True))(embedded)\n",
        "    activations = Dropout(0.5)(activations)\n",
        "    # Attention\n",
        "    attention = Dense(1, activation='tanh')(activations)\n",
        "    attention = Flatten()(attention)\n",
        "    attention = Activation('softmax')(attention)\n",
        "    attention = RepeatVector(2*HIDDEN_SIZE)(attention)\n",
        "    attention = Permute([2, 1])(attention)\n",
        "    output_attention = multiply([activations, attention])\n",
        "\n",
        "    # output_attention = LSTM(HIDDEN_SIZE)(output_attention)\n",
        "    output_attention = Lambda(lambda xin: K.sum(xin, axis=-2), output_shape=(HIDDEN_SIZE,))(output_attention)\n",
        "    output = Dense(NUM_ADR_CLASSES, activation='sigmoid')(output_attention)\n",
        "    bi_lstm_attention = Model(inputs=[_input], outputs=output, name=\"bi_lstm_attention\")\n",
        "    return bi_lstm_attention"
      ],
      "execution_count": 0,
      "outputs": []
    },
    {
      "cell_type": "code",
      "metadata": {
        "id": "p0wleHBgqIWI",
        "colab_type": "code",
        "outputId": "89da6fa8-2971-4cd7-c7ae-127caca074f3",
        "colab": {
          "base_uri": "https://localhost:8080/",
          "height": 969
        }
      },
      "source": [
        "bi_lstm_attention = create_bi_lstm_with_attention()\n",
        "bi_lstm_attention.compile(loss='binary_crossentropy', optimizer='adam', metrics=['accuracy'])\n",
        "print(bi_lstm_attention.summary())\n",
        "\n",
        "bi_lstm_attention.fit(X_train, y_train,\n",
        "# bi_lstm_attention.fit(X_train_main, y_train_main,\n",
        "#                          validation_data=(X_train_val, y_train_val),\n",
        "                         epochs=10, batch_size=64)"
      ],
      "execution_count": 209,
      "outputs": [
        {
          "output_type": "stream",
          "text": [
            "Model: \"bi_lstm_attention\"\n",
            "__________________________________________________________________________________________________\n",
            "Layer (type)                    Output Shape         Param #     Connected to                     \n",
            "==================================================================================================\n",
            "input_31 (InputLayer)           [(None, 1695)]       0                                            \n",
            "__________________________________________________________________________________________________\n",
            "embedding_42 (Embedding)        (None, 1695, 64)     8192        input_31[0][0]                   \n",
            "__________________________________________________________________________________________________\n",
            "bidirectional_4 (Bidirectional) (None, 1695, 100)    46000       embedding_42[0][0]               \n",
            "__________________________________________________________________________________________________\n",
            "dropout_77 (Dropout)            (None, 1695, 100)    0           bidirectional_4[0][0]            \n",
            "__________________________________________________________________________________________________\n",
            "dense_97 (Dense)                (None, 1695, 1)      101         dropout_77[0][0]                 \n",
            "__________________________________________________________________________________________________\n",
            "flatten_14 (Flatten)            (None, 1695)         0           dense_97[0][0]                   \n",
            "__________________________________________________________________________________________________\n",
            "activation_17 (Activation)      (None, 1695)         0           flatten_14[0][0]                 \n",
            "__________________________________________________________________________________________________\n",
            "repeat_vector_14 (RepeatVector) (None, 100, 1695)    0           activation_17[0][0]              \n",
            "__________________________________________________________________________________________________\n",
            "permute_14 (Permute)            (None, 1695, 100)    0           repeat_vector_14[0][0]           \n",
            "__________________________________________________________________________________________________\n",
            "multiply_14 (Multiply)          (None, 1695, 100)    0           dropout_77[0][0]                 \n",
            "                                                                 permute_14[0][0]                 \n",
            "__________________________________________________________________________________________________\n",
            "lambda_12 (Lambda)              (None, 100)          0           multiply_14[0][0]                \n",
            "__________________________________________________________________________________________________\n",
            "dense_98 (Dense)                (None, 27)           2727        lambda_12[0][0]                  \n",
            "==================================================================================================\n",
            "Total params: 57,020\n",
            "Trainable params: 48,828\n",
            "Non-trainable params: 8,192\n",
            "__________________________________________________________________________________________________\n",
            "None\n",
            "Train on 944 samples\n",
            "Epoch 1/10\n",
            "944/944 [==============================] - 74s 78ms/sample - loss: 0.6725 - acc: 0.6723\n",
            "Epoch 2/10\n",
            "944/944 [==============================] - 71s 75ms/sample - loss: 0.5372 - acc: 0.7450\n",
            "Epoch 3/10\n",
            "944/944 [==============================] - 72s 76ms/sample - loss: 0.4819 - acc: 0.7750\n",
            "Epoch 4/10\n",
            "944/944 [==============================] - 73s 77ms/sample - loss: 0.4786 - acc: 0.7747\n",
            "Epoch 5/10\n",
            "944/944 [==============================] - 68s 72ms/sample - loss: 0.4775 - acc: 0.7763\n",
            "Epoch 6/10\n",
            "944/944 [==============================] - 72s 76ms/sample - loss: 0.4775 - acc: 0.7768\n",
            "Epoch 7/10\n",
            "944/944 [==============================] - 72s 76ms/sample - loss: 0.4768 - acc: 0.7767\n",
            "Epoch 8/10\n",
            "944/944 [==============================] - 71s 75ms/sample - loss: 0.4769 - acc: 0.7768\n",
            "Epoch 9/10\n",
            "944/944 [==============================] - 70s 74ms/sample - loss: 0.4771 - acc: 0.7742\n",
            "Epoch 10/10\n",
            "944/944 [==============================] - 71s 75ms/sample - loss: 0.4767 - acc: 0.7768\n"
          ],
          "name": "stdout"
        },
        {
          "output_type": "execute_result",
          "data": {
            "text/plain": [
              "<tensorflow.python.keras.callbacks.History at 0x7ff11246dc18>"
            ]
          },
          "metadata": {
            "tags": []
          },
          "execution_count": 209
        }
      ]
    },
    {
      "cell_type": "code",
      "metadata": {
        "id": "guHxiQ2dqM5Y",
        "colab_type": "code",
        "colab": {
          "base_uri": "https://localhost:8080/",
          "height": 51
        },
        "outputId": "5253845f-77e7-43a8-8a9e-c6c6eeb031c3"
      },
      "source": [
        "bi_lstm_attention.evaluate(X_test, y_test)"
      ],
      "execution_count": 210,
      "outputs": [
        {
          "output_type": "stream",
          "text": [
            "237/237 [==============================] - 8s 34ms/sample - loss: 0.4671 - acc: 0.7801\n"
          ],
          "name": "stdout"
        },
        {
          "output_type": "execute_result",
          "data": {
            "text/plain": [
              "[0.46712367519547665, 0.78012186]"
            ]
          },
          "metadata": {
            "tags": []
          },
          "execution_count": 210
        }
      ]
    },
    {
      "cell_type": "code",
      "metadata": {
        "id": "Du_zraQVcG4W",
        "colab_type": "code",
        "outputId": "689ce55b-cf2b-4e05-88c8-2af59be30049",
        "colab": {
          "base_uri": "https://localhost:8080/",
          "height": 295
        }
      },
      "source": [
        "plot_results(bi_lstm_attention, title=\"Bi-LSTM w/ attention\")"
      ],
      "execution_count": 211,
      "outputs": [
        {
          "output_type": "display_data",
          "data": {
            "image/png": "[encoded data removed]",
            "text/plain": [
              "<Figure size 432x288 with 1 Axes>"
            ]
          },
          "metadata": {
            "tags": []
          }
        }
      ]
    },
    {
      "cell_type": "code",
      "metadata": {
        "id": "0HEiLV1crOie",
        "colab_type": "code",
        "outputId": "6bd374f0-559f-4d04-b70d-75f6c7c847ac",
        "colab": {
          "base_uri": "https://localhost:8080/",
          "height": 1000
        }
      },
      "source": [
        "# MLP\n",
        "MLP_HIDDEN_SIZE = 64\n",
        "\n",
        "mlp = Sequential()\n",
        "mlp.add(Input(shape=(MAX_LENGTH,)))\n",
        "mlp.add(Dense(MLP_HIDDEN_SIZE, activation='relu'))\n",
        "mlp.add(Dropout(0.5))\n",
        "mlp.add(Dense(MLP_HIDDEN_SIZE, activation='relu'))  # 'tanh'\n",
        "mlp.add(Dropout(0.5))\n",
        "\n",
        "mlp.add(Dense(NUM_ADR_CLASSES, activation='sigmoid'))\n",
        "\n",
        "mlp.compile(loss='binary_crossentropy', optimizer='adam', metrics=['accuracy'])\n",
        "print(mlp.summary())\n",
        "\n",
        "mlp.fit(X_train, y_train,\n",
        "# mlp.fit(X_train_main, y_train_main,\n",
        "                         validation_data=(X_train_val, y_train_val),\n",
        "                         epochs=100, batch_size=64)"
      ],
      "execution_count": 219,
      "outputs": [
        {
          "output_type": "stream",
          "text": [
            "Model: \"sequential_51\"\n",
            "_________________________________________________________________\n",
            "Layer (type)                 Output Shape              Param #   \n",
            "=================================================================\n",
            "dense_108 (Dense)            (None, 64)                108544    \n",
            "_________________________________________________________________\n",
            "dropout_84 (Dropout)         (None, 64)                0         \n",
            "_________________________________________________________________\n",
            "dense_109 (Dense)            (None, 64)                4160      \n",
            "_________________________________________________________________\n",
            "dropout_85 (Dropout)         (None, 64)                0         \n",
            "_________________________________________________________________\n",
            "dense_110 (Dense)            (None, 27)                1755      \n",
            "=================================================================\n",
            "Total params: 114,459\n",
            "Trainable params: 114,459\n",
            "Non-trainable params: 0\n",
            "_________________________________________________________________\n",
            "None\n",
            "Train on 944 samples, validate on 189 samples\n",
            "Epoch 1/100\n",
            "944/944 [==============================] - 4s 4ms/sample - loss: 3.5599 - acc: 0.5503 - val_loss: 0.7005 - val_acc: 0.6334\n",
            "Epoch 2/100\n",
            "944/944 [==============================] - 0s 80us/sample - loss: 0.7590 - acc: 0.7067 - val_loss: 0.6889 - val_acc: 0.7596\n",
            "Epoch 3/100\n",
            "944/944 [==============================] - 0s 89us/sample - loss: 0.6944 - acc: 0.7554 - val_loss: 0.6767 - val_acc: 0.7750\n",
            "Epoch 4/100\n",
            "944/944 [==============================] - 0s 93us/sample - loss: 0.6811 - acc: 0.7640 - val_loss: 0.6699 - val_acc: 0.7766\n",
            "Epoch 5/100\n",
            "944/944 [==============================] - 0s 78us/sample - loss: 0.6742 - acc: 0.7642 - val_loss: 0.6630 - val_acc: 0.7819\n",
            "Epoch 6/100\n",
            "944/944 [==============================] - 0s 72us/sample - loss: 0.6668 - acc: 0.7674 - val_loss: 0.6559 - val_acc: 0.7835\n",
            "Epoch 7/100\n",
            "944/944 [==============================] - 0s 78us/sample - loss: 0.6584 - acc: 0.7682 - val_loss: 0.6480 - val_acc: 0.7844\n",
            "Epoch 8/100\n",
            "944/944 [==============================] - 0s 76us/sample - loss: 0.6502 - acc: 0.7687 - val_loss: 0.6391 - val_acc: 0.7850\n",
            "Epoch 9/100\n",
            "944/944 [==============================] - 0s 83us/sample - loss: 0.6436 - acc: 0.7668 - val_loss: 0.6310 - val_acc: 0.7858\n",
            "Epoch 10/100\n",
            "944/944 [==============================] - 0s 77us/sample - loss: 0.6356 - acc: 0.7693 - val_loss: 0.6216 - val_acc: 0.7831\n",
            "Epoch 11/100\n",
            "944/944 [==============================] - 0s 81us/sample - loss: 0.6283 - acc: 0.7685 - val_loss: 0.6163 - val_acc: 0.7839\n",
            "Epoch 12/100\n",
            "944/944 [==============================] - 0s 78us/sample - loss: 0.6196 - acc: 0.7695 - val_loss: 0.6067 - val_acc: 0.7842\n",
            "Epoch 13/100\n",
            "944/944 [==============================] - 0s 76us/sample - loss: 0.6126 - acc: 0.7701 - val_loss: 0.5981 - val_acc: 0.7829\n",
            "Epoch 14/100\n",
            "944/944 [==============================] - 0s 69us/sample - loss: 0.6050 - acc: 0.7693 - val_loss: 0.5896 - val_acc: 0.7839\n",
            "Epoch 15/100\n",
            "944/944 [==============================] - 0s 71us/sample - loss: 0.5988 - acc: 0.7708 - val_loss: 0.5841 - val_acc: 0.7837\n",
            "Epoch 16/100\n",
            "944/944 [==============================] - 0s 69us/sample - loss: 0.5890 - acc: 0.7718 - val_loss: 0.5743 - val_acc: 0.7813\n",
            "Epoch 17/100\n",
            "944/944 [==============================] - 0s 84us/sample - loss: 0.5824 - acc: 0.7722 - val_loss: 0.5654 - val_acc: 0.7831\n",
            "Epoch 18/100\n",
            "944/944 [==============================] - 0s 69us/sample - loss: 0.5757 - acc: 0.7717 - val_loss: 0.5607 - val_acc: 0.7835\n",
            "Epoch 19/100\n",
            "944/944 [==============================] - 0s 68us/sample - loss: 0.5674 - acc: 0.7712 - val_loss: 0.5512 - val_acc: 0.7831\n",
            "Epoch 20/100\n",
            "944/944 [==============================] - 0s 68us/sample - loss: 0.5595 - acc: 0.7729 - val_loss: 0.5426 - val_acc: 0.7831\n",
            "Epoch 21/100\n",
            "944/944 [==============================] - 0s 67us/sample - loss: 0.5547 - acc: 0.7730 - val_loss: 0.5362 - val_acc: 0.7829\n",
            "Epoch 22/100\n",
            "944/944 [==============================] - 0s 68us/sample - loss: 0.5450 - acc: 0.7752 - val_loss: 0.5287 - val_acc: 0.7827\n",
            "Epoch 23/100\n",
            "944/944 [==============================] - 0s 66us/sample - loss: 0.5408 - acc: 0.7717 - val_loss: 0.5230 - val_acc: 0.7827\n",
            "Epoch 24/100\n",
            "944/944 [==============================] - 0s 67us/sample - loss: 0.5317 - acc: 0.7752 - val_loss: 0.5140 - val_acc: 0.7825\n",
            "Epoch 25/100\n",
            "944/944 [==============================] - 0s 66us/sample - loss: 0.5266 - acc: 0.7736 - val_loss: 0.5082 - val_acc: 0.7825\n",
            "Epoch 26/100\n",
            "944/944 [==============================] - 0s 72us/sample - loss: 0.5213 - acc: 0.7729 - val_loss: 0.5041 - val_acc: 0.7827\n",
            "Epoch 27/100\n",
            "944/944 [==============================] - 0s 77us/sample - loss: 0.5174 - acc: 0.7730 - val_loss: 0.4989 - val_acc: 0.7829\n",
            "Epoch 28/100\n",
            "944/944 [==============================] - 0s 71us/sample - loss: 0.5134 - acc: 0.7734 - val_loss: 0.4938 - val_acc: 0.7827\n",
            "Epoch 29/100\n",
            "944/944 [==============================] - 0s 70us/sample - loss: 0.5108 - acc: 0.7742 - val_loss: 0.4899 - val_acc: 0.7825\n",
            "Epoch 30/100\n",
            "944/944 [==============================] - 0s 70us/sample - loss: 0.5088 - acc: 0.7726 - val_loss: 0.4865 - val_acc: 0.7827\n",
            "Epoch 31/100\n",
            "944/944 [==============================] - 0s 94us/sample - loss: 0.5045 - acc: 0.7735 - val_loss: 0.4832 - val_acc: 0.7827\n",
            "Epoch 32/100\n",
            "944/944 [==============================] - 0s 75us/sample - loss: 0.5017 - acc: 0.7745 - val_loss: 0.4811 - val_acc: 0.7827\n",
            "Epoch 33/100\n",
            "944/944 [==============================] - 0s 74us/sample - loss: 0.5004 - acc: 0.7746 - val_loss: 0.4790 - val_acc: 0.7827\n",
            "Epoch 34/100\n",
            "944/944 [==============================] - 0s 79us/sample - loss: 0.4994 - acc: 0.7728 - val_loss: 0.4768 - val_acc: 0.7829\n",
            "Epoch 35/100\n",
            "944/944 [==============================] - 0s 68us/sample - loss: 0.4972 - acc: 0.7744 - val_loss: 0.4750 - val_acc: 0.7827\n",
            "Epoch 36/100\n",
            "944/944 [==============================] - 0s 68us/sample - loss: 0.4961 - acc: 0.7717 - val_loss: 0.4734 - val_acc: 0.7827\n",
            "Epoch 37/100\n",
            "944/944 [==============================] - 0s 72us/sample - loss: 0.4946 - acc: 0.7766 - val_loss: 0.4726 - val_acc: 0.7827\n",
            "Epoch 38/100\n",
            "944/944 [==============================] - 0s 68us/sample - loss: 0.4954 - acc: 0.7746 - val_loss: 0.4717 - val_acc: 0.7829\n",
            "Epoch 39/100\n",
            "944/944 [==============================] - 0s 78us/sample - loss: 0.4925 - acc: 0.7727 - val_loss: 0.4708 - val_acc: 0.7827\n",
            "Epoch 40/100\n",
            "944/944 [==============================] - 0s 75us/sample - loss: 0.4923 - acc: 0.7746 - val_loss: 0.4699 - val_acc: 0.7827\n",
            "Epoch 41/100\n",
            "944/944 [==============================] - 0s 72us/sample - loss: 0.4908 - acc: 0.7751 - val_loss: 0.4692 - val_acc: 0.7825\n",
            "Epoch 42/100\n",
            "944/944 [==============================] - 0s 78us/sample - loss: 0.4908 - acc: 0.7735 - val_loss: 0.4686 - val_acc: 0.7825\n",
            "Epoch 43/100\n",
            "944/944 [==============================] - 0s 68us/sample - loss: 0.4883 - acc: 0.7743 - val_loss: 0.4680 - val_acc: 0.7827\n",
            "Epoch 44/100\n",
            "944/944 [==============================] - 0s 71us/sample - loss: 0.4909 - acc: 0.7737 - val_loss: 0.4676 - val_acc: 0.7829\n",
            "Epoch 45/100\n",
            "944/944 [==============================] - 0s 91us/sample - loss: 0.4900 - acc: 0.7751 - val_loss: 0.4671 - val_acc: 0.7827\n",
            "Epoch 46/100\n",
            "944/944 [==============================] - 0s 73us/sample - loss: 0.4908 - acc: 0.7750 - val_loss: 0.4667 - val_acc: 0.7825\n",
            "Epoch 47/100\n",
            "944/944 [==============================] - 0s 72us/sample - loss: 0.4883 - acc: 0.7737 - val_loss: 0.4665 - val_acc: 0.7825\n",
            "Epoch 48/100\n",
            "944/944 [==============================] - 0s 69us/sample - loss: 0.4864 - acc: 0.7744 - val_loss: 0.4664 - val_acc: 0.7825\n",
            "Epoch 49/100\n",
            "944/944 [==============================] - 0s 70us/sample - loss: 0.4875 - acc: 0.7745 - val_loss: 0.4664 - val_acc: 0.7825\n",
            "Epoch 50/100\n",
            "944/944 [==============================] - 0s 70us/sample - loss: 0.4876 - acc: 0.7757 - val_loss: 0.4660 - val_acc: 0.7825\n",
            "Epoch 51/100\n",
            "944/944 [==============================] - 0s 80us/sample - loss: 0.4887 - acc: 0.7733 - val_loss: 0.4656 - val_acc: 0.7829\n",
            "Epoch 52/100\n",
            "944/944 [==============================] - 0s 70us/sample - loss: 0.4883 - acc: 0.7741 - val_loss: 0.4654 - val_acc: 0.7827\n",
            "Epoch 53/100\n",
            "944/944 [==============================] - 0s 71us/sample - loss: 0.4858 - acc: 0.7738 - val_loss: 0.4653 - val_acc: 0.7827\n",
            "Epoch 54/100\n",
            "944/944 [==============================] - 0s 79us/sample - loss: 0.4857 - acc: 0.7751 - val_loss: 0.4653 - val_acc: 0.7825\n",
            "Epoch 55/100\n",
            "944/944 [==============================] - 0s 75us/sample - loss: 0.4878 - acc: 0.7746 - val_loss: 0.4651 - val_acc: 0.7829\n",
            "Epoch 56/100\n",
            "944/944 [==============================] - 0s 75us/sample - loss: 0.4877 - acc: 0.7746 - val_loss: 0.4649 - val_acc: 0.7831\n",
            "Epoch 57/100\n",
            "944/944 [==============================] - 0s 80us/sample - loss: 0.4876 - acc: 0.7745 - val_loss: 0.4648 - val_acc: 0.7827\n",
            "Epoch 58/100\n",
            "944/944 [==============================] - 0s 77us/sample - loss: 0.4882 - acc: 0.7736 - val_loss: 0.4645 - val_acc: 0.7831\n",
            "Epoch 59/100\n",
            "944/944 [==============================] - 0s 94us/sample - loss: 0.4867 - acc: 0.7775 - val_loss: 0.4643 - val_acc: 0.7833\n",
            "Epoch 60/100\n",
            "944/944 [==============================] - 0s 74us/sample - loss: 0.4848 - acc: 0.7735 - val_loss: 0.4643 - val_acc: 0.7829\n",
            "Epoch 61/100\n",
            "944/944 [==============================] - 0s 70us/sample - loss: 0.4837 - acc: 0.7777 - val_loss: 0.4640 - val_acc: 0.7833\n",
            "Epoch 62/100\n",
            "944/944 [==============================] - 0s 82us/sample - loss: 0.4870 - acc: 0.7746 - val_loss: 0.4637 - val_acc: 0.7833\n",
            "Epoch 63/100\n",
            "944/944 [==============================] - 0s 78us/sample - loss: 0.4843 - acc: 0.7750 - val_loss: 0.4638 - val_acc: 0.7831\n",
            "Epoch 64/100\n",
            "944/944 [==============================] - 0s 74us/sample - loss: 0.4852 - acc: 0.7756 - val_loss: 0.4640 - val_acc: 0.7827\n",
            "Epoch 65/100\n",
            "944/944 [==============================] - 0s 78us/sample - loss: 0.4851 - acc: 0.7751 - val_loss: 0.4638 - val_acc: 0.7831\n",
            "Epoch 66/100\n",
            "944/944 [==============================] - 0s 82us/sample - loss: 0.4832 - acc: 0.7750 - val_loss: 0.4635 - val_acc: 0.7833\n",
            "Epoch 67/100\n",
            "944/944 [==============================] - 0s 72us/sample - loss: 0.4832 - acc: 0.7740 - val_loss: 0.4633 - val_acc: 0.7833\n",
            "Epoch 68/100\n",
            "944/944 [==============================] - 0s 87us/sample - loss: 0.4850 - acc: 0.7747 - val_loss: 0.4630 - val_acc: 0.7840\n",
            "Epoch 69/100\n",
            "944/944 [==============================] - 0s 88us/sample - loss: 0.4849 - acc: 0.7739 - val_loss: 0.4622 - val_acc: 0.7840\n",
            "Epoch 70/100\n",
            "944/944 [==============================] - 0s 80us/sample - loss: 0.4838 - acc: 0.7745 - val_loss: 0.4618 - val_acc: 0.7848\n",
            "Epoch 71/100\n",
            "944/944 [==============================] - 0s 82us/sample - loss: 0.4836 - acc: 0.7726 - val_loss: 0.4627 - val_acc: 0.7839\n",
            "Epoch 72/100\n",
            "944/944 [==============================] - 0s 83us/sample - loss: 0.4832 - acc: 0.7758 - val_loss: 0.4629 - val_acc: 0.7835\n",
            "Epoch 73/100\n",
            "944/944 [==============================] - 0s 75us/sample - loss: 0.4834 - acc: 0.7756 - val_loss: 0.4622 - val_acc: 0.7837\n",
            "Epoch 74/100\n",
            "944/944 [==============================] - 0s 72us/sample - loss: 0.4853 - acc: 0.7747 - val_loss: 0.4631 - val_acc: 0.7831\n",
            "Epoch 75/100\n",
            "944/944 [==============================] - 0s 73us/sample - loss: 0.4854 - acc: 0.7766 - val_loss: 0.4633 - val_acc: 0.7825\n",
            "Epoch 76/100\n",
            "944/944 [==============================] - 0s 85us/sample - loss: 0.4831 - acc: 0.7755 - val_loss: 0.4613 - val_acc: 0.7846\n",
            "Epoch 77/100\n",
            "944/944 [==============================] - 0s 83us/sample - loss: 0.4834 - acc: 0.7739 - val_loss: 0.4609 - val_acc: 0.7850\n",
            "Epoch 78/100\n",
            "944/944 [==============================] - 0s 80us/sample - loss: 0.4820 - acc: 0.7753 - val_loss: 0.4626 - val_acc: 0.7835\n",
            "Epoch 79/100\n",
            "944/944 [==============================] - 0s 79us/sample - loss: 0.4830 - acc: 0.7762 - val_loss: 0.4618 - val_acc: 0.7842\n",
            "Epoch 80/100\n",
            "944/944 [==============================] - 0s 79us/sample - loss: 0.4822 - acc: 0.7758 - val_loss: 0.4616 - val_acc: 0.7842\n",
            "Epoch 81/100\n",
            "944/944 [==============================] - 0s 77us/sample - loss: 0.4833 - acc: 0.7771 - val_loss: 0.4619 - val_acc: 0.7837\n",
            "Epoch 82/100\n",
            "944/944 [==============================] - 0s 74us/sample - loss: 0.4842 - acc: 0.7771 - val_loss: 0.4619 - val_acc: 0.7837\n",
            "Epoch 83/100\n",
            "944/944 [==============================] - 0s 78us/sample - loss: 0.4817 - acc: 0.7762 - val_loss: 0.4611 - val_acc: 0.7842\n",
            "Epoch 84/100\n",
            "944/944 [==============================] - 0s 77us/sample - loss: 0.4843 - acc: 0.7754 - val_loss: 0.4610 - val_acc: 0.7844\n",
            "Epoch 85/100\n",
            "944/944 [==============================] - 0s 81us/sample - loss: 0.4809 - acc: 0.7740 - val_loss: 0.4620 - val_acc: 0.7835\n",
            "Epoch 86/100\n",
            "944/944 [==============================] - 0s 72us/sample - loss: 0.4829 - acc: 0.7753 - val_loss: 0.4622 - val_acc: 0.7835\n",
            "Epoch 87/100\n",
            "944/944 [==============================] - 0s 78us/sample - loss: 0.4824 - acc: 0.7769 - val_loss: 0.4607 - val_acc: 0.7846\n",
            "Epoch 88/100\n",
            "944/944 [==============================] - 0s 73us/sample - loss: 0.4798 - acc: 0.7752 - val_loss: 0.4606 - val_acc: 0.7850\n",
            "Epoch 89/100\n",
            "944/944 [==============================] - 0s 72us/sample - loss: 0.4825 - acc: 0.7768 - val_loss: 0.4603 - val_acc: 0.7854\n",
            "Epoch 90/100\n",
            "944/944 [==============================] - 0s 71us/sample - loss: 0.4801 - acc: 0.7793 - val_loss: 0.4610 - val_acc: 0.7848\n",
            "Epoch 91/100\n",
            "944/944 [==============================] - 0s 77us/sample - loss: 0.4815 - acc: 0.7777 - val_loss: 0.4611 - val_acc: 0.7846\n",
            "Epoch 92/100\n",
            "944/944 [==============================] - 0s 72us/sample - loss: 0.4802 - acc: 0.7769 - val_loss: 0.4611 - val_acc: 0.7848\n",
            "Epoch 93/100\n",
            "944/944 [==============================] - 0s 72us/sample - loss: 0.4792 - acc: 0.7772 - val_loss: 0.4608 - val_acc: 0.7852\n",
            "Epoch 94/100\n",
            "944/944 [==============================] - 0s 69us/sample - loss: 0.4812 - acc: 0.7768 - val_loss: 0.4618 - val_acc: 0.7837\n",
            "Epoch 95/100\n",
            "944/944 [==============================] - 0s 80us/sample - loss: 0.4819 - acc: 0.7768 - val_loss: 0.4610 - val_acc: 0.7848\n",
            "Epoch 96/100\n",
            "944/944 [==============================] - 0s 77us/sample - loss: 0.4796 - acc: 0.7782 - val_loss: 0.4599 - val_acc: 0.7862\n",
            "Epoch 97/100\n",
            "944/944 [==============================] - 0s 81us/sample - loss: 0.4801 - acc: 0.7802 - val_loss: 0.4596 - val_acc: 0.7874\n",
            "Epoch 98/100\n",
            "944/944 [==============================] - 0s 89us/sample - loss: 0.4812 - acc: 0.7775 - val_loss: 0.4597 - val_acc: 0.7866\n",
            "Epoch 99/100\n",
            "944/944 [==============================] - 0s 77us/sample - loss: 0.4808 - acc: 0.7786 - val_loss: 0.4592 - val_acc: 0.7882\n",
            "Epoch 100/100\n",
            "944/944 [==============================] - 0s 70us/sample - loss: 0.4793 - acc: 0.7766 - val_loss: 0.4602 - val_acc: 0.7858\n"
          ],
          "name": "stdout"
        },
        {
          "output_type": "execute_result",
          "data": {
            "text/plain": [
              "<tensorflow.python.keras.callbacks.History at 0x7ff111cf57b8>"
            ]
          },
          "metadata": {
            "tags": []
          },
          "execution_count": 219
        }
      ]
    },
    {
      "cell_type": "code",
      "metadata": {
        "id": "ecR22LNEtcN8",
        "colab_type": "code",
        "outputId": "bab6f4a9-8ea0-4e99-f490-922623d73e9d",
        "colab": {
          "base_uri": "https://localhost:8080/",
          "height": 51
        }
      },
      "source": [
        "mlp.evaluate(X_test, y_test)"
      ],
      "execution_count": 220,
      "outputs": [
        {
          "output_type": "stream",
          "text": [
            "237/237 [==============================] - 0s 146us/sample - loss: 0.4864 - acc: 0.7804\n"
          ],
          "name": "stdout"
        },
        {
          "output_type": "execute_result",
          "data": {
            "text/plain": [
              "[0.48638052427316014, 0.78043437]"
            ]
          },
          "metadata": {
            "tags": []
          },
          "execution_count": 220
        }
      ]
    },
    {
      "cell_type": "code",
      "metadata": {
        "id": "dOrMTeaoSNng",
        "colab_type": "code",
        "outputId": "872128fa-0c0d-41cd-fc58-84208037a577",
        "colab": {
          "base_uri": "https://localhost:8080/",
          "height": 295
        }
      },
      "source": [
        "plot_results(mlp, title=\"MLP\", mlp=True)"
      ],
      "execution_count": 221,
      "outputs": [
        {
          "output_type": "display_data",
          "data": {
            "image/png": "[encoded data removed]",
            "text/plain": [
              "<Figure size 432x288 with 1 Axes>"
            ]
          },
          "metadata": {
            "tags": []
          }
        }
      ]
    },
    {
      "cell_type": "code",
      "metadata": {
        "id": "48Sb06_tT0CA",
        "colab_type": "code",
        "colab": {}
      },
      "source": [
        "test_losses, test_accs = pseudo_labeling(mlp, 10, 50, 64)"
      ],
      "execution_count": 0,
      "outputs": []
    },
    {
      "cell_type": "code",
      "metadata": {
        "id": "Z35x81eFV_fY",
        "colab_type": "code",
        "outputId": "bc68cc24-edb9-432a-c50c-d2bedc9a919d",
        "colab": {
          "base_uri": "https://localhost:8080/",
          "height": 295
        }
      },
      "source": [
        "plt.figure()\n",
        "plt.plot(test_accs)\n",
        "plt.plot(test_losses)\n",
        "plt.title('Pseudo Labeling Results')\n",
        "plt.legend(['test_acc', 'test_loss'], loc = 'best')\n",
        "plt.xlabel('iteration')\n",
        "plt.show()"
      ],
      "execution_count": 0,
      "outputs": [
        {
          "output_type": "display_data",
          "data": {
            "image/png": "[encoded data removed]",
            "text/plain": [
              "<Figure size 432x288 with 1 Axes>"
            ]
          },
          "metadata": {
            "tags": []
          }
        }
      ]
    },
    {
      "cell_type": "code",
      "metadata": {
        "id": "c-pQxR8YWRwr",
        "colab_type": "code",
        "outputId": "4e4ed6de-36fd-4991-9b73-afbcde070752",
        "colab": {
          "base_uri": "https://localhost:8080/",
          "height": 187
        }
      },
      "source": [
        "test_accs"
      ],
      "execution_count": 0,
      "outputs": [
        {
          "output_type": "execute_result",
          "data": {
            "text/plain": [
              "[0.779653,\n",
              " 0.7809033,\n",
              " 0.7813721,\n",
              " 0.7816846,\n",
              " 0.7812157,\n",
              " 0.780747,\n",
              " 0.7812157,\n",
              " 0.780747,\n",
              " 0.78059065,\n",
              " 0.78012186]"
            ]
          },
          "metadata": {
            "tags": []
          },
          "execution_count": 173
        }
      ]
    },
    {
      "cell_type": "code",
      "metadata": {
        "id": "coYGAP4hy5MP",
        "colab_type": "code",
        "outputId": "4351dbb4-f2c8-4ecf-e6d2-18b988cbd507",
        "colab": {
          "base_uri": "https://localhost:8080/",
          "height": 51
        }
      },
      "source": [
        "mlp_predictions = np.round(mlp.predict(X_test))\n",
        "mlp_predictions[0]"
      ],
      "execution_count": 0,
      "outputs": [
        {
          "output_type": "execute_result",
          "data": {
            "text/plain": [
              "array([1., 1., 0., 0., 0., 1., 1., 1., 1., 1., 1., 1., 1., 1., 1., 0., 1.,\n",
              "       0., 1., 1., 1., 1., 1., 1., 0., 0., 0.], dtype=float32)"
            ]
          },
          "metadata": {
            "tags": []
          },
          "execution_count": 174
        }
      ]
    },
    {
      "cell_type": "code",
      "metadata": {
        "id": "_QqUeDP0BRJ6",
        "colab_type": "code",
        "outputId": "c5302e22-b75b-4572-9eab-3927c15e35c8",
        "colab": {
          "base_uri": "https://localhost:8080/",
          "height": 51
        }
      },
      "source": [
        "y_test[0]"
      ],
      "execution_count": 0,
      "outputs": [
        {
          "output_type": "execute_result",
          "data": {
            "text/plain": [
              "array([0., 0., 0., 0., 0., 0., 0., 1., 0., 1., 0., 1., 0., 0., 0., 0., 1.,\n",
              "       0., 0., 0., 0., 0., 1., 0., 0., 0., 0.])"
            ]
          },
          "metadata": {
            "tags": []
          },
          "execution_count": 155
        }
      ]
    },
    {
      "cell_type": "code",
      "metadata": {
        "id": "7ck864NftdNb",
        "colab_type": "code",
        "colab": {}
      },
      "source": [
        "bi_lstm_predictions = np.round(bi_lstm_attention.predict(X_test))"
      ],
      "execution_count": 0,
      "outputs": []
    },
    {
      "cell_type": "code",
      "metadata": {
        "id": "hPX1f_RJ4WSC",
        "colab_type": "code",
        "colab": {}
      },
      "source": [
        "lstm_predictions = np.round(lstm_attention.predict(X_test))"
      ],
      "execution_count": 0,
      "outputs": []
    },
    {
      "cell_type": "code",
      "metadata": {
        "id": "WKSvUTgRwY1o",
        "colab_type": "code",
        "colab": {}
      },
      "source": [
        "bi_lstm_no_attention_predictions = np.round(bi_lstm_no_attention.predict(X_test))"
      ],
      "execution_count": 0,
      "outputs": []
    },
    {
      "cell_type": "code",
      "metadata": {
        "id": "7wdKnsKfucS5",
        "colab_type": "code",
        "colab": {}
      },
      "source": [
        "mlp_predictions = np.round(mlp.predict(X_test))"
      ],
      "execution_count": 0,
      "outputs": []
    },
    {
      "cell_type": "code",
      "metadata": {
        "id": "6RXT6etfm8ZQ",
        "colab_type": "code",
        "outputId": "78e3848d-ae67-42a2-fd4a-967a03b548ed",
        "colab": {
          "base_uri": "https://localhost:8080/",
          "height": 34
        }
      },
      "source": [
        "hamming_loss(mlp_predictions, y_test)"
      ],
      "execution_count": 0,
      "outputs": [
        {
          "output_type": "execute_result",
          "data": {
            "text/plain": [
              "0.473511486169714"
            ]
          },
          "metadata": {
            "tags": []
          },
          "execution_count": 18
        }
      ]
    },
    {
      "cell_type": "code",
      "metadata": {
        "id": "hdg94N75ujKi",
        "colab_type": "code",
        "colab": {}
      },
      "source": [
        "for i in range(len(bi_lstm_predictions)):\n",
        "    # print(np.array_equal(bi_lstm_predictions[i], mlp_predictions[i]))\n",
        "    print(sum(np.abs(np.subtract(mlp_predictions[i], y_test[i])))/27)"
      ],
      "execution_count": 0,
      "outputs": []
    },
    {
      "cell_type": "code",
      "metadata": {
        "id": "styPMzagwd5M",
        "colab_type": "code",
        "outputId": "8c87902a-28bd-4a11-8530-359e723c2201",
        "colab": {
          "base_uri": "https://localhost:8080/",
          "height": 51
        }
      },
      "source": [
        "bi_lstm_predictions[0]"
      ],
      "execution_count": 0,
      "outputs": [
        {
          "output_type": "execute_result",
          "data": {
            "text/plain": [
              "array([1., 1., 0., 1., 0., 1., 1., 1., 1., 1., 1., 1., 1., 1., 1., 0., 1.,\n",
              "       0., 1., 1., 1., 1., 1., 1., 0., 0., 0.], dtype=float32)"
            ]
          },
          "metadata": {
            "tags": []
          },
          "execution_count": 130
        }
      ]
    }
  ]
}