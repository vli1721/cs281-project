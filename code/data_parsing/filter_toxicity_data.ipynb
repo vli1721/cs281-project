{
 "cells": [
  {
   "cell_type": "code",
   "execution_count": 13,
   "metadata": {
    "collapsed": true
   },
   "outputs": [],
   "source": [
    "import numpy as np\n",
    "import pandas as pd\n",
    "\n",
    "from sklearn.model_selection import train_test_split"
   ]
  },
  {
   "cell_type": "code",
   "execution_count": 9,
   "metadata": {
    "collapsed": true
   },
   "outputs": [],
   "source": [
    "# Load data\n",
    "smile_data = pd.read_csv(\"drugbank_smile_data.csv\")"
   ]
  },
  {
   "cell_type": "code",
   "execution_count": 10,
   "metadata": {},
   "outputs": [
    {
     "name": "stdout",
     "output_type": "stream",
     "text": [
      "Used 2631 data points out of 10630\n",
      "Number of non-toxic: 2413\n"
     ]
    }
   ],
   "source": [
    "# Filter data. X-values are SMILE strings. Y-values are toxicity ratings (1 indicates toxic, 0 indicates non-toxic).\n",
    "filtered_data_dict = dict()\n",
    "unlabeled_data_dict = dict()\n",
    "column_names = [\"drug_id\", \"name\", \"smile\", \"toxicity\"]\n",
    "for col in column_names:\n",
    "    filtered_data_dict[col] = []\n",
    "    if col != \"toxicity\":\n",
    "        unlabeled_data_dict[col] = []\n",
    "    \n",
    "num_approved = 0\n",
    "\n",
    "for index, row in smile_data.iterrows():\n",
    "    if row[\"approved\"] == 1 or row[\"illicit\"] == 1 or row[\"withdrawn\"] == 1:\n",
    "        filtered_data_dict[\"drug_id\"].append(row[\"drug_id\"])\n",
    "        filtered_data_dict[\"name\"].append(row[\"name\"])\n",
    "        filtered_data_dict[\"smile\"].append(row[\"smile\"])\n",
    "        filtered_data_dict[\"toxicity\"].append(int(row[\"approved\"] != 1))\n",
    "        num_approved += int(row[\"approved\"] == 1)\n",
    "    else:\n",
    "        unlabeled_data_dict[\"drug_id\"].append(row[\"drug_id\"])\n",
    "        unlabeled_data_dict[\"name\"].append(row[\"name\"])\n",
    "        unlabeled_data_dict[\"smile\"].append(row[\"smile\"])\n",
    "\n",
    "num_filtered_data = len(filtered_data_dict[\"smile\"])\n",
    "print(\"Used \" + str(num_filtered_data) + \" data points out of \" + str(len(smile_data)))\n",
    "print(\"Number of non-toxic: \" + str(num_approved))"
   ]
  },
  {
   "cell_type": "code",
   "execution_count": 11,
   "metadata": {
    "collapsed": true
   },
   "outputs": [],
   "source": [
    "# Convert data dictionary to dataframe and then CSV. Write CSV to disk.\n",
    "filtered_data_df = pd.DataFrame(data=filtered_data_dict)\n",
    "filtered_data_df.to_csv(\"drugbank_smile_data_filtered.csv\", index=False)\n",
    "\n",
    "unlabeled_data_df = pd.DataFrame(data=unlabeled_data_dict)\n",
    "unlabeled_data_df.to_csv(\"drugbank_smile_data_unlabeled.csv\", index=False)\n"
   ]
  },
  {
   "cell_type": "code",
   "execution_count": 17,
   "metadata": {},
   "outputs": [],
   "source": [
    "# Generate train-test split (80-20).\n",
    "train_data_df, test_data_df = train_test_split(filtered_data_df, train_size=0.8, test_size=0.2)"
   ]
  },
  {
   "cell_type": "code",
   "execution_count": 18,
   "metadata": {},
   "outputs": [],
   "source": [
    "train_data_df.to_csv(\"drugbank_smile_data_filtered_train.csv\", index=False)\n",
    "test_data_df.to_csv(\"drugbank_smile_data_filtered_test.csv\", index=False)"
   ]
  },
  {
   "cell_type": "code",
   "execution_count": null,
   "metadata": {
    "collapsed": true
   },
   "outputs": [],
   "source": []
  }
 ],
 "metadata": {
  "kernelspec": {
   "display_name": "Python 3",
   "language": "python",
   "name": "python3"
  },
  "language_info": {
   "codemirror_mode": {
    "name": "ipython",
    "version": 3
   },
   "file_extension": ".py",
   "mimetype": "text/x-python",
   "name": "python",
   "nbconvert_exporter": "python",
   "pygments_lexer": "ipython3",
   "version": "3.6.3"
  }
 },
 "nbformat": 4,
 "nbformat_minor": 2
}
