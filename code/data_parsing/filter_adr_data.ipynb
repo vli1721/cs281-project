{
 "cells": [
  {
   "cell_type": "code",
   "execution_count": 1,
   "metadata": {
    "collapsed": true
   },
   "outputs": [],
   "source": [
    "import numpy as np\n",
    "import pandas as pd\n",
    "\n",
    "from sklearn.model_selection import train_test_split"
   ]
  },
  {
   "cell_type": "code",
   "execution_count": 2,
   "metadata": {
    "collapsed": true
   },
   "outputs": [],
   "source": [
    "# Load data\n",
    "adr_data = pd.read_csv(\"drugbank_smile_data_with_adrs.csv\")"
   ]
  },
  {
   "cell_type": "code",
   "execution_count": 15,
   "metadata": {
    "collapsed": true
   },
   "outputs": [],
   "source": [
    "# Track null data\n",
    "null_indices = adr_data[\"adrs\"].isnull()"
   ]
  },
  {
   "cell_type": "code",
   "execution_count": 17,
   "metadata": {},
   "outputs": [
    {
     "name": "stdout",
     "output_type": "stream",
     "text": [
      "Number of ADR data points: 1181 out of 10630\n"
     ]
    }
   ],
   "source": [
    "num_data = len(adr_data[\"adrs\"])-sum(null_indices)\n",
    "print(\"Number of ADR data points: \" + str(num_data) + \" out of \" + str(len(adr_data[\"adrs\"])))"
   ]
  },
  {
   "cell_type": "code",
   "execution_count": 20,
   "metadata": {},
   "outputs": [],
   "source": [
    "filtered_data_dict = dict()\n",
    "unlabeled_data_dict = dict()\n",
    "column_names = [\"drug_id\", \"name\", \"smile\", \"adrs\"]\n",
    "for col in column_names:\n",
    "    filtered_data_dict[col] = []\n",
    "    if col != \"adrs\":\n",
    "        unlabeled_data_dict[col] = []\n",
    "    \n",
    "for index, row in adr_data.iterrows():\n",
    "    if not null_indices[index]:\n",
    "        filtered_data_dict[\"drug_id\"].append(row[\"drug_id\"])\n",
    "        filtered_data_dict[\"name\"].append(row[\"name\"])\n",
    "        filtered_data_dict[\"smile\"].append(row[\"smile\"])\n",
    "        filtered_data_dict[\"adrs\"].append(row[\"adrs\"])\n",
    "    else:\n",
    "        unlabeled_data_dict[\"drug_id\"].append(row[\"drug_id\"])\n",
    "        unlabeled_data_dict[\"name\"].append(row[\"name\"])\n",
    "        unlabeled_data_dict[\"smile\"].append(row[\"smile\"])"
   ]
  },
  {
   "cell_type": "code",
   "execution_count": 21,
   "metadata": {
    "collapsed": true
   },
   "outputs": [],
   "source": [
    "# Convert data dictionary to dataframe and then CSV. Write CSV to disk.\n",
    "filtered_data_df = pd.DataFrame(data=filtered_data_dict)\n",
    "filtered_data_df.to_csv(\"adr_data_filtered.csv\", index=False)\n",
    "\n",
    "unlabeled_data_df = pd.DataFrame(data=unlabeled_data_dict)\n",
    "unlabeled_data_df.to_csv(\"adr_data_unlabeled.csv\", index=False)"
   ]
  },
  {
   "cell_type": "code",
   "execution_count": 23,
   "metadata": {
    "collapsed": true
   },
   "outputs": [],
   "source": [
    "# Generate train-test split (80-20).\n",
    "train_data_df, test_data_df = train_test_split(filtered_data_df, train_size=0.8, test_size=0.2)"
   ]
  },
  {
   "cell_type": "code",
   "execution_count": 24,
   "metadata": {},
   "outputs": [],
   "source": [
    "train_data_df.to_csv(\"adr_data_filtered_train.csv\", index=False)\n",
    "test_data_df.to_csv(\"adr_data_filtered_test.csv\", index=False)"
   ]
  },
  {
   "cell_type": "code",
   "execution_count": null,
   "metadata": {
    "collapsed": true
   },
   "outputs": [],
   "source": []
  }
 ],
 "metadata": {
  "kernelspec": {
   "display_name": "Python 3",
   "language": "python",
   "name": "python3"
  },
  "language_info": {
   "codemirror_mode": {
    "name": "ipython",
    "version": 3
   },
   "file_extension": ".py",
   "mimetype": "text/x-python",
   "name": "python",
   "nbconvert_exporter": "python",
   "pygments_lexer": "ipython3",
   "version": "3.6.3"
  }
 },
 "nbformat": 4,
 "nbformat_minor": 2
}
